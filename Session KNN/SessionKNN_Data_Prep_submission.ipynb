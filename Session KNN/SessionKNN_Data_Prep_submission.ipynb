{
 "cells": [
  {
   "cell_type": "markdown",
   "id": "00b8a1bb",
   "metadata": {},
   "source": [
    "# Data preparation for Session KNN Algo on the Coveo Data"
   ]
  },
  {
   "cell_type": "markdown",
   "id": "b0831e02",
   "metadata": {},
   "source": [
    "### Import libraries "
   ]
  },
  {
   "cell_type": "code",
   "execution_count": null,
   "id": "71ad1f38",
   "metadata": {},
   "outputs": [],
   "source": [
    "#import libraries \n",
    "import numpy as np \n",
    "import pandas as pd\n",
    "import seaborn as sns \n",
    "import matplotlib.pyplot as plt \n",
    "%matplotlib inline "
   ]
  },
  {
   "cell_type": "code",
   "execution_count": null,
   "id": "cc023151",
   "metadata": {},
   "outputs": [],
   "source": [
    "#import other lib \n",
    "import os \n",
    "import time\n",
    "import datetime \n",
    "from tqdm import tqdm \n",
    "from collections import Counter"
   ]
  },
  {
   "cell_type": "markdown",
   "id": "398b0d8a",
   "metadata": {},
   "source": [
    "### load, Analyse and prepare data"
   ]
  },
  {
   "cell_type": "code",
   "execution_count": null,
   "id": "2ae1c7f5",
   "metadata": {},
   "outputs": [],
   "source": [
    "#import the sample browsing data \n",
    "\n",
    "browsing_train = pd.read_csv('browsing_product_only.csv')"
   ]
  },
  {
   "cell_type": "code",
   "execution_count": null,
   "id": "c483167a",
   "metadata": {},
   "outputs": [],
   "source": [
    "browsing_train"
   ]
  },
  {
   "cell_type": "code",
   "execution_count": null,
   "id": "9bf01de3",
   "metadata": {},
   "outputs": [],
   "source": [
    "# convert timestamp to time \n",
    "\n",
    "def convert_to_time(df):\n",
    "    \n",
    "    df['time'] = (df['server_timestamp_epoch_ms'] / 1000).astype(int)\n",
    "    #df['time'] = pd.to_datetime(df['time'].astype(int), unit='s')\n",
    "    \n",
    "    return df"
   ]
  },
  {
   "cell_type": "code",
   "execution_count": null,
   "id": "8653ad66",
   "metadata": {},
   "outputs": [],
   "source": [
    "convert_to_time(browsing_train)"
   ]
  },
  {
   "cell_type": "code",
   "execution_count": null,
   "id": "0deb408f",
   "metadata": {},
   "outputs": [],
   "source": [
    "browsing_train.columns"
   ]
  },
  {
   "cell_type": "code",
   "execution_count": null,
   "id": "19536755",
   "metadata": {},
   "outputs": [],
   "source": [
    "browsing_train.dtypes"
   ]
  },
  {
   "cell_type": "code",
   "execution_count": null,
   "id": "db0b2a6e",
   "metadata": {},
   "outputs": [],
   "source": [
    "\"\"\"\n",
    "The object datatype is a string or a mixed data type. \n",
    "\n",
    "Thus, I need to make the session_id_hash and the product_sku_hash to int64. \n",
    "\n",
    "\"\"\""
   ]
  },
  {
   "cell_type": "code",
   "execution_count": null,
   "id": "db989fa9",
   "metadata": {},
   "outputs": [],
   "source": [
    "# session_key, item_key, time_key\n",
    "\n",
    "browsing_session = browsing_train[['session_id_hash', 'product_sku_hash', 'time']] "
   ]
  },
  {
   "cell_type": "code",
   "execution_count": null,
   "id": "5bd652f0",
   "metadata": {},
   "outputs": [],
   "source": [
    "browsing_session.dtypes"
   ]
  },
  {
   "cell_type": "code",
   "execution_count": null,
   "id": "c80700aa",
   "metadata": {},
   "outputs": [],
   "source": [
    "browsing_session.info()"
   ]
  },
  {
   "cell_type": "code",
   "execution_count": null,
   "id": "25023d15",
   "metadata": {},
   "outputs": [],
   "source": [
    "browsing_session.head()"
   ]
  },
  {
   "cell_type": "code",
   "execution_count": null,
   "id": "9fa433b4",
   "metadata": {},
   "outputs": [],
   "source": [
    "print(browsing_session['session_id_hash'].nunique())"
   ]
  },
  {
   "cell_type": "code",
   "execution_count": null,
   "id": "2953ee31",
   "metadata": {},
   "outputs": [],
   "source": [
    "3280584 + 1"
   ]
  },
  {
   "cell_type": "code",
   "execution_count": null,
   "id": "17af84fc",
   "metadata": {},
   "outputs": [],
   "source": [
    "SessionId = list(range(1,3280585))"
   ]
  },
  {
   "cell_type": "code",
   "execution_count": null,
   "id": "c1029529",
   "metadata": {},
   "outputs": [],
   "source": [
    "print(len(SessionId))\n",
    "print(type(SessionId))\n"
   ]
  },
  {
   "cell_type": "code",
   "execution_count": null,
   "id": "788ddfe4",
   "metadata": {},
   "outputs": [],
   "source": [
    "session_list = list(browsing_session['session_id_hash'].unique())"
   ]
  },
  {
   "cell_type": "code",
   "execution_count": null,
   "id": "3e6a6034",
   "metadata": {},
   "outputs": [],
   "source": [
    "print(len(session_list))\n",
    "print(type(session_list))"
   ]
  },
  {
   "cell_type": "code",
   "execution_count": null,
   "id": "65056956",
   "metadata": {},
   "outputs": [],
   "source": [
    "Session_Id_df = pd.DataFrame(SessionId, columns=['SessionId'])\n",
    "Session_Id_df"
   ]
  },
  {
   "cell_type": "code",
   "execution_count": null,
   "id": "c29a5458",
   "metadata": {},
   "outputs": [],
   "source": [
    "session_list_df = pd.DataFrame(session_list, columns=['session_id_hash'])\n",
    "session_list_df"
   ]
  },
  {
   "cell_type": "code",
   "execution_count": null,
   "id": "f7b02945",
   "metadata": {},
   "outputs": [],
   "source": [
    "new_session_list = pd.concat([session_list_df, Session_Id_df], axis=1)"
   ]
  },
  {
   "cell_type": "code",
   "execution_count": null,
   "id": "e1c283f7",
   "metadata": {},
   "outputs": [],
   "source": [
    "new_session_list"
   ]
  },
  {
   "cell_type": "code",
   "execution_count": null,
   "id": "e3a101e7",
   "metadata": {},
   "outputs": [],
   "source": [
    "browsing_session"
   ]
  },
  {
   "cell_type": "code",
   "execution_count": null,
   "id": "95c1a42b",
   "metadata": {},
   "outputs": [],
   "source": [
    "browsing_session1 = pd.merge(browsing_session, new_session_list, on='session_id_hash')"
   ]
  },
  {
   "cell_type": "code",
   "execution_count": null,
   "id": "98058224",
   "metadata": {},
   "outputs": [],
   "source": [
    "browsing_session1"
   ]
  },
  {
   "cell_type": "code",
   "execution_count": null,
   "id": "65b39629",
   "metadata": {},
   "outputs": [],
   "source": [
    "print(browsing_session1.nunique())\n",
    "print(browsing_session1.isnull().sum())"
   ]
  },
  {
   "cell_type": "code",
   "execution_count": null,
   "id": "3daba4f1",
   "metadata": {},
   "outputs": [],
   "source": [
    "browsing_session1.dtypes"
   ]
  },
  {
   "cell_type": "code",
   "execution_count": null,
   "id": "45876d8d",
   "metadata": {},
   "outputs": [],
   "source": [
    "browsing_session1"
   ]
  },
  {
   "cell_type": "code",
   "execution_count": null,
   "id": "c2609893",
   "metadata": {},
   "outputs": [],
   "source": [
    "product_list = list(browsing_session1['product_sku_hash'].unique())\n",
    "product_list_df = pd.DataFrame(product_list, columns=['product_sku_hash'])\n",
    "product_list_df"
   ]
  },
  {
   "cell_type": "code",
   "execution_count": null,
   "id": "6e17161d",
   "metadata": {},
   "outputs": [],
   "source": [
    "print(len(browsing_session1['product_sku_hash'].unique()))"
   ]
  },
  {
   "cell_type": "code",
   "execution_count": null,
   "id": "c4093f0e",
   "metadata": {},
   "outputs": [],
   "source": [
    "10000+57483"
   ]
  },
  {
   "cell_type": "code",
   "execution_count": null,
   "id": "8f074368",
   "metadata": {},
   "outputs": [],
   "source": [
    "item_list = list(range(10000,67483))\n",
    "print(len(item_list))"
   ]
  },
  {
   "cell_type": "code",
   "execution_count": null,
   "id": "eda30781",
   "metadata": {},
   "outputs": [],
   "source": [
    "ItemId_list_df = pd.DataFrame(item_list, columns=['ItemId'])\n",
    "ItemId_list_df"
   ]
  },
  {
   "cell_type": "code",
   "execution_count": null,
   "id": "b5b63e62",
   "metadata": {},
   "outputs": [],
   "source": [
    "new_product_list = pd.concat([product_list_df, ItemId_list_df], axis=1)"
   ]
  },
  {
   "cell_type": "code",
   "execution_count": null,
   "id": "619a01ca",
   "metadata": {},
   "outputs": [],
   "source": [
    "new_product_list"
   ]
  },
  {
   "cell_type": "code",
   "execution_count": null,
   "id": "40a80a97",
   "metadata": {},
   "outputs": [],
   "source": [
    "print(new_product_list.isnull().sum())"
   ]
  },
  {
   "cell_type": "code",
   "execution_count": null,
   "id": "c5dc1757",
   "metadata": {},
   "outputs": [],
   "source": [
    "browsing_session2 = pd.merge(browsing_session1, new_product_list, on='product_sku_hash')"
   ]
  },
  {
   "cell_type": "code",
   "execution_count": null,
   "id": "a62ec118",
   "metadata": {},
   "outputs": [],
   "source": [
    "browsing_session2"
   ]
  },
  {
   "cell_type": "code",
   "execution_count": null,
   "id": "433cd7e2",
   "metadata": {},
   "outputs": [],
   "source": [
    "print(browsing_session2.nunique())"
   ]
  },
  {
   "cell_type": "code",
   "execution_count": null,
   "id": "cc09c441",
   "metadata": {},
   "outputs": [],
   "source": [
    "print(browsing_session2.isnull().sum())"
   ]
  },
  {
   "cell_type": "code",
   "execution_count": null,
   "id": "31524b3a",
   "metadata": {},
   "outputs": [],
   "source": [
    "browsing_session2.dtypes"
   ]
  },
  {
   "cell_type": "code",
   "execution_count": null,
   "id": "54c98465",
   "metadata": {},
   "outputs": [],
   "source": [
    "print(len(browsing_train))\n",
    "print(len(browsing_session2))"
   ]
  },
  {
   "cell_type": "code",
   "execution_count": null,
   "id": "e2a43203",
   "metadata": {},
   "outputs": [],
   "source": [
    "main_df = browsing_session2[['SessionId', 'ItemId', 'time']]"
   ]
  },
  {
   "cell_type": "code",
   "execution_count": null,
   "id": "548f28e0",
   "metadata": {},
   "outputs": [],
   "source": [
    "main_df"
   ]
  },
  {
   "cell_type": "code",
   "execution_count": null,
   "id": "6505bc32",
   "metadata": {},
   "outputs": [],
   "source": [
    "print(main_df.isnull().sum())\n",
    "print('--------------------')\n",
    "print(main_df.dtypes)"
   ]
  },
  {
   "cell_type": "code",
   "execution_count": null,
   "id": "b7a205dd",
   "metadata": {},
   "outputs": [],
   "source": [
    "#rename columns \n",
    "\n",
    "col1 = ['session_id', 'item_id', 'ts']\n",
    "\n",
    "main_df.columns = col1"
   ]
  },
  {
   "cell_type": "code",
   "execution_count": null,
   "id": "c16b9981",
   "metadata": {},
   "outputs": [],
   "source": [
    "main_df.head()"
   ]
  },
  {
   "cell_type": "code",
   "execution_count": null,
   "id": "12b49946",
   "metadata": {},
   "outputs": [],
   "source": [
    "product_count = main_df['item_id'].value_counts().rename_axis('item_id').reset_index(name='counts')"
   ]
  },
  {
   "cell_type": "code",
   "execution_count": null,
   "id": "75f6e158",
   "metadata": {},
   "outputs": [],
   "source": [
    "product_count"
   ]
  },
  {
   "cell_type": "code",
   "execution_count": null,
   "id": "d5255adf",
   "metadata": {
    "scrolled": true
   },
   "outputs": [],
   "source": [
    "print(product_count.nunique())\n",
    "print(product_count.isnull().sum())"
   ]
  },
  {
   "cell_type": "code",
   "execution_count": null,
   "id": "658f85d8",
   "metadata": {},
   "outputs": [],
   "source": [
    "product_count"
   ]
  },
  {
   "cell_type": "code",
   "execution_count": null,
   "id": "111df07a",
   "metadata": {},
   "outputs": [],
   "source": [
    "main_df2 = pd.merge(main_df, product_count, on='item_id')"
   ]
  },
  {
   "cell_type": "code",
   "execution_count": null,
   "id": "155f7fe2",
   "metadata": {},
   "outputs": [],
   "source": [
    "main_df2"
   ]
  },
  {
   "cell_type": "code",
   "execution_count": null,
   "id": "e11d9fd6",
   "metadata": {},
   "outputs": [],
   "source": [
    "print(main_df2.nunique())\n",
    "print(main_df2.isnull().sum())"
   ]
  },
  {
   "cell_type": "code",
   "execution_count": null,
   "id": "117280f2",
   "metadata": {},
   "outputs": [],
   "source": [
    "main_df2['counts'].max()"
   ]
  },
  {
   "cell_type": "code",
   "execution_count": null,
   "id": "0fb6c5e5",
   "metadata": {},
   "outputs": [],
   "source": [
    "main_df2['counts'].min()"
   ]
  },
  {
   "cell_type": "code",
   "execution_count": null,
   "id": "b8a17cd5",
   "metadata": {},
   "outputs": [],
   "source": [
    "\"\"\"\n",
    "So, basically, I want to remove all sessions with products that appears less than 4 times. \n",
    "\n",
    "Sessions\n",
    "\n",
    "\"\"\""
   ]
  },
  {
   "cell_type": "code",
   "execution_count": null,
   "id": "e4b903bf",
   "metadata": {},
   "outputs": [],
   "source": [
    "main_df2"
   ]
  },
  {
   "cell_type": "code",
   "execution_count": null,
   "id": "df4d78df",
   "metadata": {},
   "outputs": [],
   "source": [
    "sessions_to_remove = list(main_df2.loc[main_df2['counts']<6, 'session_id'])"
   ]
  },
  {
   "cell_type": "code",
   "execution_count": null,
   "id": "00c420be",
   "metadata": {},
   "outputs": [],
   "source": [
    "sessions_to_remove"
   ]
  },
  {
   "cell_type": "code",
   "execution_count": null,
   "id": "5143028a",
   "metadata": {},
   "outputs": [],
   "source": [
    "len(sessions_to_remove)"
   ]
  },
  {
   "cell_type": "code",
   "execution_count": null,
   "id": "27598a98",
   "metadata": {},
   "outputs": [],
   "source": [
    "tmp = main_df2[main_df2.session_id.isin(sessions_to_remove)]"
   ]
  },
  {
   "cell_type": "code",
   "execution_count": null,
   "id": "ee1ff9c8",
   "metadata": {},
   "outputs": [],
   "source": [
    "tmp"
   ]
  },
  {
   "cell_type": "code",
   "execution_count": null,
   "id": "25ae8955",
   "metadata": {},
   "outputs": [],
   "source": [
    "tmp.session_id.nunique()"
   ]
  },
  {
   "cell_type": "code",
   "execution_count": null,
   "id": "5d96c0fe",
   "metadata": {},
   "outputs": [],
   "source": [
    "main_df3 = main_df2[main_df2.session_id.isin(sessions_to_remove) == False]"
   ]
  },
  {
   "cell_type": "code",
   "execution_count": null,
   "id": "0cc2b86b",
   "metadata": {
    "scrolled": true
   },
   "outputs": [],
   "source": [
    "main_df3 = main_df3.reset_index(drop=True)\n",
    "main_df3"
   ]
  },
  {
   "cell_type": "code",
   "execution_count": null,
   "id": "f7d4ae56",
   "metadata": {},
   "outputs": [],
   "source": [
    "main_df3['counts'].min()"
   ]
  },
  {
   "cell_type": "code",
   "execution_count": null,
   "id": "2fa65dc4",
   "metadata": {},
   "outputs": [],
   "source": [
    "main_df3['counts'].max()"
   ]
  },
  {
   "cell_type": "code",
   "execution_count": null,
   "id": "9c4e8ce5",
   "metadata": {},
   "outputs": [],
   "source": [
    "main_df3.columns"
   ]
  },
  {
   "cell_type": "code",
   "execution_count": null,
   "id": "d06bb758",
   "metadata": {},
   "outputs": [],
   "source": [
    "train_df = main_df3[['session_id', 'item_id', 'ts', 'counts']]"
   ]
  },
  {
   "cell_type": "code",
   "execution_count": null,
   "id": "8cc55a0d",
   "metadata": {},
   "outputs": [],
   "source": [
    "train_df"
   ]
  },
  {
   "cell_type": "code",
   "execution_count": null,
   "id": "3fa219d1",
   "metadata": {},
   "outputs": [],
   "source": [
    "train_df['counts'].min()"
   ]
  },
  {
   "cell_type": "code",
   "execution_count": null,
   "id": "18fb30e5",
   "metadata": {},
   "outputs": [],
   "source": [
    "train_df = train_df[['session_id', 'item_id', 'ts']]"
   ]
  },
  {
   "cell_type": "code",
   "execution_count": null,
   "id": "129c337d",
   "metadata": {},
   "outputs": [],
   "source": [
    "train_df"
   ]
  },
  {
   "cell_type": "code",
   "execution_count": null,
   "id": "8219109e",
   "metadata": {},
   "outputs": [],
   "source": [
    "print(train_df.nunique())\n",
    "print(train_df.isnull().sum())\n",
    "print(train_df.dtypes)"
   ]
  },
  {
   "cell_type": "code",
   "execution_count": null,
   "id": "f513ae67",
   "metadata": {},
   "outputs": [],
   "source": [
    "def preprocess_data1(df, min_session_count=3):\n",
    "\n",
    "    df.dropna(inplace=True)\n",
    "    item_counts = df.groupby([\"session_id\"]).count()[\"item_id\"]\n",
    "    df = df[df[\"session_id\"].isin(item_counts[item_counts >= min_session_count].index)].reset_index(drop=True)\n",
    "    \n",
    "    return df"
   ]
  },
  {
   "cell_type": "code",
   "execution_count": null,
   "id": "8dcc8fa7",
   "metadata": {},
   "outputs": [],
   "source": [
    "train_df = preprocess_data1(train_df)\n",
    "train_df"
   ]
  },
  {
   "cell_type": "code",
   "execution_count": null,
   "id": "a50fa404",
   "metadata": {},
   "outputs": [],
   "source": [
    "print(train_df.nunique())\n",
    "print(train_df.isnull().sum())\n",
    "print(train_df.dtypes)"
   ]
  },
  {
   "cell_type": "code",
   "execution_count": null,
   "id": "bd080fc1",
   "metadata": {},
   "outputs": [],
   "source": [
    "\"\"\"\n",
    "This should be correct, I think \n",
    "\n",
    "\"\"\""
   ]
  },
  {
   "cell_type": "code",
   "execution_count": null,
   "id": "391389eb",
   "metadata": {},
   "outputs": [],
   "source": [
    "train_df"
   ]
  },
  {
   "cell_type": "code",
   "execution_count": null,
   "id": "8ca02301",
   "metadata": {},
   "outputs": [],
   "source": [
    "train_df.to_csv('SessionKNN_train.csv', index=False)"
   ]
  },
  {
   "cell_type": "code",
   "execution_count": null,
   "id": "73d2fc10",
   "metadata": {},
   "outputs": [],
   "source": [
    "test = pd.read_csv('SessionKNN_train.csv')"
   ]
  },
  {
   "cell_type": "code",
   "execution_count": null,
   "id": "fcb72833",
   "metadata": {},
   "outputs": [],
   "source": [
    "test.info()"
   ]
  },
  {
   "cell_type": "code",
   "execution_count": null,
   "id": "3aaeb2c8",
   "metadata": {},
   "outputs": [],
   "source": [
    "test.isnull().sum()"
   ]
  },
  {
   "cell_type": "code",
   "execution_count": null,
   "id": "cd4f9b36",
   "metadata": {},
   "outputs": [],
   "source": [
    "test.nunique()"
   ]
  },
  {
   "cell_type": "code",
   "execution_count": null,
   "id": "0d25896e",
   "metadata": {},
   "outputs": [],
   "source": []
  }
 ],
 "metadata": {
  "kernelspec": {
   "display_name": "Python 3 (ipykernel)",
   "language": "python",
   "name": "python3"
  },
  "language_info": {
   "codemirror_mode": {
    "name": "ipython",
    "version": 3
   },
   "file_extension": ".py",
   "mimetype": "text/x-python",
   "name": "python",
   "nbconvert_exporter": "python",
   "pygments_lexer": "ipython3",
   "version": "3.9.7"
  }
 },
 "nbformat": 4,
 "nbformat_minor": 5
}
