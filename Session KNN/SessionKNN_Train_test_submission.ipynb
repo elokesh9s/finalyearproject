{
 "cells": [
  {
   "cell_type": "markdown",
   "id": "9510e5ba",
   "metadata": {},
   "source": [
    "# Data preparation for Session KNN Algo on the Coveo Data"
   ]
  },
  {
   "cell_type": "markdown",
   "id": "a8ea3094",
   "metadata": {},
   "source": [
    "### Import libraries "
   ]
  },
  {
   "cell_type": "code",
   "execution_count": null,
   "id": "46bc3089",
   "metadata": {},
   "outputs": [],
   "source": [
    "#import libraries \n",
    "import numpy as np \n",
    "import pandas as pd\n",
    "import seaborn as sns \n",
    "import matplotlib.pyplot as plt \n",
    "%matplotlib inline "
   ]
  },
  {
   "cell_type": "code",
   "execution_count": null,
   "id": "5accf1c7",
   "metadata": {},
   "outputs": [],
   "source": [
    "#import other lib \n",
    "import os \n",
    "import time\n",
    "import datetime \n",
    "from tqdm import tqdm \n",
    "from collections import Counter"
   ]
  },
  {
   "cell_type": "markdown",
   "id": "601116c1",
   "metadata": {},
   "source": [
    "### load SessionKNN data"
   ]
  },
  {
   "cell_type": "code",
   "execution_count": null,
   "id": "046818e8",
   "metadata": {},
   "outputs": [],
   "source": [
    "train_df = pd.read_csv('SessionKNN_train.csv')"
   ]
  },
  {
   "cell_type": "code",
   "execution_count": null,
   "id": "34354891",
   "metadata": {},
   "outputs": [],
   "source": [
    "train_df"
   ]
  },
  {
   "cell_type": "code",
   "execution_count": null,
   "id": "a93db170",
   "metadata": {},
   "outputs": [],
   "source": [
    "session_list = train_df['session_id'].unique()"
   ]
  },
  {
   "cell_type": "code",
   "execution_count": null,
   "id": "36267ee8",
   "metadata": {},
   "outputs": [],
   "source": [
    "print(len(session_list))\n",
    "print('---------------')\n",
    "print(train_df.nunique())"
   ]
  },
  {
   "cell_type": "code",
   "execution_count": null,
   "id": "81d31177",
   "metadata": {},
   "outputs": [],
   "source": [
    "import random"
   ]
  },
  {
   "cell_type": "code",
   "execution_count": null,
   "id": "bd60afa5",
   "metadata": {},
   "outputs": [],
   "source": [
    "#Get a sample of the dataset, we need like 5000, 01\n",
    "# shuffle customer ID's\n",
    "random.shuffle(session_list)\n",
    "\n",
    "# extract 70% of session ID's\n",
    "train_sessions = [session_list[i] for i in range(round(0.9*len(session_list)))]\n",
    "\n",
    "# Get \n",
    "train_data = train_df[train_df['session_id'].isin(train_sessions)]"
   ]
  },
  {
   "cell_type": "code",
   "execution_count": null,
   "id": "4ae3de30",
   "metadata": {},
   "outputs": [],
   "source": [
    "train_data = train_data.reset_index(drop=True)\n",
    "train_data.head()"
   ]
  },
  {
   "cell_type": "code",
   "execution_count": null,
   "id": "4e59bc03",
   "metadata": {},
   "outputs": [],
   "source": [
    "print(train_data['session_id'].nunique())\n",
    "print(len(train_sessions))"
   ]
  },
  {
   "cell_type": "code",
   "execution_count": null,
   "id": "9ef0be06",
   "metadata": {},
   "outputs": [],
   "source": [
    "test_sessions = list(set(session_list) - set(train_sessions))"
   ]
  },
  {
   "cell_type": "code",
   "execution_count": null,
   "id": "5df91d3a",
   "metadata": {},
   "outputs": [],
   "source": [
    "print(len(test_sessions))"
   ]
  },
  {
   "cell_type": "code",
   "execution_count": null,
   "id": "30dd1f70",
   "metadata": {},
   "outputs": [],
   "source": [
    "853718 + 213429"
   ]
  },
  {
   "cell_type": "code",
   "execution_count": null,
   "id": "a7702693",
   "metadata": {},
   "outputs": [],
   "source": [
    "# Get test data \n",
    "test_data = train_df[train_df['session_id'].isin(test_sessions)]"
   ]
  },
  {
   "cell_type": "code",
   "execution_count": null,
   "id": "10456969",
   "metadata": {},
   "outputs": [],
   "source": [
    "test_data = test_data.reset_index(drop=True)\n",
    "test_data"
   ]
  },
  {
   "cell_type": "code",
   "execution_count": null,
   "id": "cafb5613",
   "metadata": {},
   "outputs": [],
   "source": [
    "print(test_data.nunique())\n",
    "print(len(test_sessions))"
   ]
  },
  {
   "cell_type": "code",
   "execution_count": null,
   "id": "3420e447",
   "metadata": {},
   "outputs": [],
   "source": [
    "test_items = list(test_data['item_id'].unique())"
   ]
  },
  {
   "cell_type": "code",
   "execution_count": null,
   "id": "636456db",
   "metadata": {},
   "outputs": [],
   "source": [
    "len(test_items)"
   ]
  },
  {
   "cell_type": "code",
   "execution_count": null,
   "id": "b52b71d2",
   "metadata": {},
   "outputs": [],
   "source": [
    "train_items = list(train_data['item_id'].unique())"
   ]
  },
  {
   "cell_type": "code",
   "execution_count": null,
   "id": "c8335c49",
   "metadata": {},
   "outputs": [],
   "source": [
    "len(train_items)"
   ]
  },
  {
   "cell_type": "code",
   "execution_count": null,
   "id": "4082ad0f",
   "metadata": {},
   "outputs": [],
   "source": [
    "train_data.nunique()"
   ]
  },
  {
   "cell_type": "code",
   "execution_count": null,
   "id": "ae734fb3",
   "metadata": {},
   "outputs": [],
   "source": [
    "check = all ( item in test_items for item in train_items )\n",
    "# check = True - All elements from first_list are in second_list\n",
    "# check = False - Not all elements from first_list are not in second_list"
   ]
  },
  {
   "cell_type": "code",
   "execution_count": null,
   "id": "6e72cb30",
   "metadata": {},
   "outputs": [],
   "source": [
    "result =  all(elem in train_items  for elem in test_items)\n",
    "if result:\n",
    "    print(\"Yes, train_items contains all elements in test_items\")    \n",
    "else :\n",
    "    print(\"No, train_items does not contains all elements in test_items\")"
   ]
  },
  {
   "cell_type": "code",
   "execution_count": null,
   "id": "66ed6057",
   "metadata": {},
   "outputs": [],
   "source": []
  },
  {
   "cell_type": "code",
   "execution_count": null,
   "id": "03e3e3b7",
   "metadata": {},
   "outputs": [],
   "source": []
  },
  {
   "cell_type": "code",
   "execution_count": null,
   "id": "c4ce6f9c",
   "metadata": {},
   "outputs": [],
   "source": []
  }
 ],
 "metadata": {
  "kernelspec": {
   "display_name": "Python 3 (ipykernel)",
   "language": "python",
   "name": "python3"
  },
  "language_info": {
   "codemirror_mode": {
    "name": "ipython",
    "version": 3
   },
   "file_extension": ".py",
   "mimetype": "text/x-python",
   "name": "python",
   "nbconvert_exporter": "python",
   "pygments_lexer": "ipython3",
   "version": "3.9.7"
  }
 },
 "nbformat": 4,
 "nbformat_minor": 5
}
