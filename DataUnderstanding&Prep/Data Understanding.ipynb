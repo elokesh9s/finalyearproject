{
 "cells": [
  {
   "cell_type": "markdown",
   "id": "e4dab96d",
   "metadata": {},
   "source": [
    "# ANL488 Project - Session-based Recommendation Systems"
   ]
  },
  {
   "cell_type": "markdown",
   "id": "89d03a28",
   "metadata": {},
   "source": [
    "### Data Understanding  "
   ]
  },
  {
   "cell_type": "code",
   "execution_count": 1,
   "id": "bd8f6f93",
   "metadata": {},
   "outputs": [
    {
     "data": {
      "text/plain": [
       "'\\nThe purpose of this file to do a data understanding of the coveo dataset and to do some data preparation\\n'"
      ]
     },
     "execution_count": 1,
     "metadata": {},
     "output_type": "execute_result"
    }
   ],
   "source": [
    "\"\"\"\n",
    "The purpose of this file to do a data understanding of the coveo dataset and to do some data preparation\n",
    "\"\"\""
   ]
  },
  {
   "cell_type": "code",
   "execution_count": 2,
   "id": "404f42eb",
   "metadata": {},
   "outputs": [],
   "source": [
    "#import libraries \n",
    "\n",
    "import pandas as pd \n",
    "import numpy as np\n",
    "import seaborn as sns\n",
    "import matplotlib.pyplot as plt\n",
    "%matplotlib inline"
   ]
  },
  {
   "cell_type": "code",
   "execution_count": 3,
   "id": "0f67afea",
   "metadata": {},
   "outputs": [],
   "source": [
    "import sys\n",
    "from tqdm import tqdm"
   ]
  },
  {
   "cell_type": "code",
   "execution_count": null,
   "id": "9b2560e5",
   "metadata": {},
   "outputs": [],
   "source": [
    "#sys.path"
   ]
  },
  {
   "cell_type": "markdown",
   "id": "f1676643",
   "metadata": {},
   "source": [
    "### Browsing Train"
   ]
  },
  {
   "cell_type": "code",
   "execution_count": null,
   "id": "b784fbd5",
   "metadata": {},
   "outputs": [],
   "source": [
    "sys.path.append('C:/Users/Lokesh/Desktop/Submission/0. Datasets/')"
   ]
  },
  {
   "cell_type": "code",
   "execution_count": 4,
   "id": "754b84bb",
   "metadata": {
    "scrolled": true
   },
   "outputs": [],
   "source": [
    "browsing_train = pd.read_csv('C:/Users/Lokesh/Desktop/Submission/0. Datasets/browsing_train.csv')"
   ]
  },
  {
   "cell_type": "code",
   "execution_count": 5,
   "id": "c88b48c9",
   "metadata": {},
   "outputs": [
    {
     "name": "stdout",
     "output_type": "stream",
     "text": [
      "<class 'pandas.core.frame.DataFrame'>\n",
      "RangeIndex: 36079307 entries, 0 to 36079306\n",
      "Data columns (total 6 columns):\n",
      " #   Column                     Dtype \n",
      "---  ------                     ----- \n",
      " 0   session_id_hash            object\n",
      " 1   event_type                 object\n",
      " 2   product_action             object\n",
      " 3   product_sku_hash           object\n",
      " 4   server_timestamp_epoch_ms  int64 \n",
      " 5   hashed_url                 object\n",
      "dtypes: int64(1), object(5)\n",
      "memory usage: 1.6+ GB\n"
     ]
    }
   ],
   "source": [
    "browsing_train.info()"
   ]
  },
  {
   "cell_type": "code",
   "execution_count": 6,
   "id": "53374f26",
   "metadata": {},
   "outputs": [
    {
     "name": "stdout",
     "output_type": "stream",
     "text": [
      "session_id_hash              object\n",
      "event_type                   object\n",
      "product_action               object\n",
      "product_sku_hash             object\n",
      "server_timestamp_epoch_ms     int64\n",
      "hashed_url                   object\n",
      "dtype: object\n",
      "-----------------------\n",
      "session_id_hash               4934699\n",
      "event_type                          2\n",
      "product_action                      4\n",
      "product_sku_hash                57483\n",
      "server_timestamp_epoch_ms    26219566\n",
      "hashed_url                     489300\n",
      "dtype: int64\n",
      "-----------------------\n",
      "session_id_hash                     0\n",
      "event_type                          0\n",
      "product_action               25647696\n",
      "product_sku_hash             25647696\n",
      "server_timestamp_epoch_ms           0\n",
      "hashed_url                          0\n",
      "dtype: int64\n",
      "-----------------------\n"
     ]
    }
   ],
   "source": [
    "print(browsing_train.dtypes)\n",
    "print(\"-----------------------\")\n",
    "print(browsing_train.nunique())\n",
    "print(\"-----------------------\")\n",
    "print(browsing_train.isnull().sum())\n",
    "print(\"-----------------------\")"
   ]
  },
  {
   "cell_type": "code",
   "execution_count": 8,
   "id": "a72dccf1",
   "metadata": {},
   "outputs": [
    {
     "data": {
      "text/html": [
       "<div>\n",
       "<style scoped>\n",
       "    .dataframe tbody tr th:only-of-type {\n",
       "        vertical-align: middle;\n",
       "    }\n",
       "\n",
       "    .dataframe tbody tr th {\n",
       "        vertical-align: top;\n",
       "    }\n",
       "\n",
       "    .dataframe thead th {\n",
       "        text-align: right;\n",
       "    }\n",
       "</style>\n",
       "<table border=\"1\" class=\"dataframe\">\n",
       "  <thead>\n",
       "    <tr style=\"text-align: right;\">\n",
       "      <th></th>\n",
       "      <th>session_id_hash</th>\n",
       "      <th>event_type</th>\n",
       "      <th>product_action</th>\n",
       "      <th>product_sku_hash</th>\n",
       "      <th>server_timestamp_epoch_ms</th>\n",
       "      <th>hashed_url</th>\n",
       "    </tr>\n",
       "  </thead>\n",
       "  <tbody>\n",
       "    <tr>\n",
       "      <th>0</th>\n",
       "      <td>20c458b802f6ea9374783bfc528b19421be977a6769785...</td>\n",
       "      <td>event_product</td>\n",
       "      <td>detail</td>\n",
       "      <td>d5157f8bc52965390fa21ad5842a8502bc3eb8b0930f3f...</td>\n",
       "      <td>1550885210881</td>\n",
       "      <td>7e4527ac6a32deed4f4f06bb7c49b907b7ca371e59d57d...</td>\n",
       "    </tr>\n",
       "    <tr>\n",
       "      <th>1</th>\n",
       "      <td>20c458b802f6ea9374783bfc528b19421be977a6769785...</td>\n",
       "      <td>event_product</td>\n",
       "      <td>detail</td>\n",
       "      <td>61ef3869355b78e11011f39fc7ac8f8dfb209b3442a9d5...</td>\n",
       "      <td>1550885213307</td>\n",
       "      <td>4ed279f4f0deab6dfc80f4f7bf49d527fd894fa478a9ce...</td>\n",
       "    </tr>\n",
       "    <tr>\n",
       "      <th>2</th>\n",
       "      <td>20c458b802f6ea9374783bfc528b19421be977a6769785...</td>\n",
       "      <td>pageview</td>\n",
       "      <td>NaN</td>\n",
       "      <td>NaN</td>\n",
       "      <td>1550885213307</td>\n",
       "      <td>4ed279f4f0deab6dfc80f4f7bf49d527fd894fa478a9ce...</td>\n",
       "    </tr>\n",
       "    <tr>\n",
       "      <th>3</th>\n",
       "      <td>20c458b802f6ea9374783bfc528b19421be977a6769785...</td>\n",
       "      <td>event_product</td>\n",
       "      <td>detail</td>\n",
       "      <td>d5157f8bc52965390fa21ad5842a8502bc3eb8b0930f3f...</td>\n",
       "      <td>1550885215484</td>\n",
       "      <td>7e4527ac6a32deed4f4f06bb7c49b907b7ca371e59d57d...</td>\n",
       "    </tr>\n",
       "    <tr>\n",
       "      <th>4</th>\n",
       "      <td>20c458b802f6ea9374783bfc528b19421be977a6769785...</td>\n",
       "      <td>pageview</td>\n",
       "      <td>NaN</td>\n",
       "      <td>NaN</td>\n",
       "      <td>1550885215484</td>\n",
       "      <td>7e4527ac6a32deed4f4f06bb7c49b907b7ca371e59d57d...</td>\n",
       "    </tr>\n",
       "    <tr>\n",
       "      <th>...</th>\n",
       "      <td>...</td>\n",
       "      <td>...</td>\n",
       "      <td>...</td>\n",
       "      <td>...</td>\n",
       "      <td>...</td>\n",
       "      <td>...</td>\n",
       "    </tr>\n",
       "    <tr>\n",
       "      <th>36079302</th>\n",
       "      <td>0676f342dc490b0f8bd9c22d16e4c67f8f7af1f85679f1...</td>\n",
       "      <td>pageview</td>\n",
       "      <td>NaN</td>\n",
       "      <td>NaN</td>\n",
       "      <td>1552162324909</td>\n",
       "      <td>38f5bd3c9a1cc5b39e6b965f1aa6c565737f58e19a560a...</td>\n",
       "    </tr>\n",
       "    <tr>\n",
       "      <th>36079303</th>\n",
       "      <td>0676f342dc490b0f8bd9c22d16e4c67f8f7af1f85679f1...</td>\n",
       "      <td>pageview</td>\n",
       "      <td>NaN</td>\n",
       "      <td>NaN</td>\n",
       "      <td>1552162336608</td>\n",
       "      <td>38f5bd3c9a1cc5b39e6b965f1aa6c565737f58e19a560a...</td>\n",
       "    </tr>\n",
       "    <tr>\n",
       "      <th>36079304</th>\n",
       "      <td>0676f342dc490b0f8bd9c22d16e4c67f8f7af1f85679f1...</td>\n",
       "      <td>pageview</td>\n",
       "      <td>NaN</td>\n",
       "      <td>NaN</td>\n",
       "      <td>1552162343684</td>\n",
       "      <td>38f5bd3c9a1cc5b39e6b965f1aa6c565737f58e19a560a...</td>\n",
       "    </tr>\n",
       "    <tr>\n",
       "      <th>36079305</th>\n",
       "      <td>0676f342dc490b0f8bd9c22d16e4c67f8f7af1f85679f1...</td>\n",
       "      <td>pageview</td>\n",
       "      <td>NaN</td>\n",
       "      <td>NaN</td>\n",
       "      <td>1552162356368</td>\n",
       "      <td>433b0e71df1fe9a8d1f45647545701f6108414c40eef76...</td>\n",
       "    </tr>\n",
       "    <tr>\n",
       "      <th>36079306</th>\n",
       "      <td>0676f342dc490b0f8bd9c22d16e4c67f8f7af1f85679f1...</td>\n",
       "      <td>pageview</td>\n",
       "      <td>NaN</td>\n",
       "      <td>NaN</td>\n",
       "      <td>1552162390080</td>\n",
       "      <td>fb12a2500433a3ef2f92eae62941ce6b2db8616ce6c992...</td>\n",
       "    </tr>\n",
       "  </tbody>\n",
       "</table>\n",
       "<p>36079307 rows × 6 columns</p>\n",
       "</div>"
      ],
      "text/plain": [
       "                                            session_id_hash     event_type  \\\n",
       "0         20c458b802f6ea9374783bfc528b19421be977a6769785...  event_product   \n",
       "1         20c458b802f6ea9374783bfc528b19421be977a6769785...  event_product   \n",
       "2         20c458b802f6ea9374783bfc528b19421be977a6769785...       pageview   \n",
       "3         20c458b802f6ea9374783bfc528b19421be977a6769785...  event_product   \n",
       "4         20c458b802f6ea9374783bfc528b19421be977a6769785...       pageview   \n",
       "...                                                     ...            ...   \n",
       "36079302  0676f342dc490b0f8bd9c22d16e4c67f8f7af1f85679f1...       pageview   \n",
       "36079303  0676f342dc490b0f8bd9c22d16e4c67f8f7af1f85679f1...       pageview   \n",
       "36079304  0676f342dc490b0f8bd9c22d16e4c67f8f7af1f85679f1...       pageview   \n",
       "36079305  0676f342dc490b0f8bd9c22d16e4c67f8f7af1f85679f1...       pageview   \n",
       "36079306  0676f342dc490b0f8bd9c22d16e4c67f8f7af1f85679f1...       pageview   \n",
       "\n",
       "         product_action                                   product_sku_hash  \\\n",
       "0                detail  d5157f8bc52965390fa21ad5842a8502bc3eb8b0930f3f...   \n",
       "1                detail  61ef3869355b78e11011f39fc7ac8f8dfb209b3442a9d5...   \n",
       "2                   NaN                                                NaN   \n",
       "3                detail  d5157f8bc52965390fa21ad5842a8502bc3eb8b0930f3f...   \n",
       "4                   NaN                                                NaN   \n",
       "...                 ...                                                ...   \n",
       "36079302            NaN                                                NaN   \n",
       "36079303            NaN                                                NaN   \n",
       "36079304            NaN                                                NaN   \n",
       "36079305            NaN                                                NaN   \n",
       "36079306            NaN                                                NaN   \n",
       "\n",
       "          server_timestamp_epoch_ms  \\\n",
       "0                     1550885210881   \n",
       "1                     1550885213307   \n",
       "2                     1550885213307   \n",
       "3                     1550885215484   \n",
       "4                     1550885215484   \n",
       "...                             ...   \n",
       "36079302              1552162324909   \n",
       "36079303              1552162336608   \n",
       "36079304              1552162343684   \n",
       "36079305              1552162356368   \n",
       "36079306              1552162390080   \n",
       "\n",
       "                                                 hashed_url  \n",
       "0         7e4527ac6a32deed4f4f06bb7c49b907b7ca371e59d57d...  \n",
       "1         4ed279f4f0deab6dfc80f4f7bf49d527fd894fa478a9ce...  \n",
       "2         4ed279f4f0deab6dfc80f4f7bf49d527fd894fa478a9ce...  \n",
       "3         7e4527ac6a32deed4f4f06bb7c49b907b7ca371e59d57d...  \n",
       "4         7e4527ac6a32deed4f4f06bb7c49b907b7ca371e59d57d...  \n",
       "...                                                     ...  \n",
       "36079302  38f5bd3c9a1cc5b39e6b965f1aa6c565737f58e19a560a...  \n",
       "36079303  38f5bd3c9a1cc5b39e6b965f1aa6c565737f58e19a560a...  \n",
       "36079304  38f5bd3c9a1cc5b39e6b965f1aa6c565737f58e19a560a...  \n",
       "36079305  433b0e71df1fe9a8d1f45647545701f6108414c40eef76...  \n",
       "36079306  fb12a2500433a3ef2f92eae62941ce6b2db8616ce6c992...  \n",
       "\n",
       "[36079307 rows x 6 columns]"
      ]
     },
     "execution_count": 8,
     "metadata": {},
     "output_type": "execute_result"
    }
   ],
   "source": [
    "browsing_train"
   ]
  },
  {
   "cell_type": "code",
   "execution_count": null,
   "id": "d574970d",
   "metadata": {},
   "outputs": [],
   "source": [
    "browsing_train.columns"
   ]
  },
  {
   "cell_type": "code",
   "execution_count": 9,
   "id": "b79cc951",
   "metadata": {},
   "outputs": [
    {
     "name": "stdout",
     "output_type": "stream",
     "text": [
      "Event types: \n",
      "pageview         25647696\n",
      "event_product    10431611\n",
      "Name: event_type, dtype: int64\n",
      "-----------------------------------------\n",
      "product_actions: \n",
      "detail      9707890\n",
      "add          329557\n",
      "remove       316316\n",
      "purchase      77848\n",
      "Name: product_action, dtype: int64\n"
     ]
    }
   ],
   "source": [
    "print(\"Event types: \")\n",
    "print(browsing_train['event_type'].value_counts())\n",
    "print(\"-----------------------------------------\")\n",
    "print(\"product_actions: \")\n",
    "print(browsing_train['product_action'].value_counts())"
   ]
  },
  {
   "cell_type": "code",
   "execution_count": null,
   "id": "bfc97598",
   "metadata": {},
   "outputs": [],
   "source": [
    "\"\"\"\n",
    "separate the event_product from the pageview and export the product only data. \n",
    "\"\"\""
   ]
  },
  {
   "cell_type": "code",
   "execution_count": null,
   "id": "989bfb0e",
   "metadata": {},
   "outputs": [],
   "source": [
    "#product_df = browsing_train[browsing_train['event_type'] == 'event_product']\n",
    "#product_df"
   ]
  },
  {
   "cell_type": "code",
   "execution_count": null,
   "id": "a6a11258",
   "metadata": {},
   "outputs": [],
   "source": [
    "#product_df = product_df.reset_index(drop=True)\n",
    "#product_df"
   ]
  },
  {
   "cell_type": "code",
   "execution_count": null,
   "id": "114b6934",
   "metadata": {},
   "outputs": [],
   "source": [
    "#product_df.to_csv('New_browsing_events(product only).csv', index=False)"
   ]
  },
  {
   "cell_type": "markdown",
   "id": "5fa8409f",
   "metadata": {},
   "source": [
    "### Search train "
   ]
  },
  {
   "cell_type": "code",
   "execution_count": 10,
   "id": "a11e5916",
   "metadata": {},
   "outputs": [],
   "source": [
    "search_train = pd.read_csv('C:/Users/Lokesh/Desktop/Submission/0. Datasets/search_train.csv')"
   ]
  },
  {
   "cell_type": "code",
   "execution_count": 11,
   "id": "58d4263d",
   "metadata": {},
   "outputs": [
    {
     "data": {
      "text/html": [
       "<div>\n",
       "<style scoped>\n",
       "    .dataframe tbody tr th:only-of-type {\n",
       "        vertical-align: middle;\n",
       "    }\n",
       "\n",
       "    .dataframe tbody tr th {\n",
       "        vertical-align: top;\n",
       "    }\n",
       "\n",
       "    .dataframe thead th {\n",
       "        text-align: right;\n",
       "    }\n",
       "</style>\n",
       "<table border=\"1\" class=\"dataframe\">\n",
       "  <thead>\n",
       "    <tr style=\"text-align: right;\">\n",
       "      <th></th>\n",
       "      <th>session_id_hash</th>\n",
       "      <th>query_vector</th>\n",
       "      <th>clicked_skus_hash</th>\n",
       "      <th>product_skus_hash</th>\n",
       "      <th>server_timestamp_epoch_ms</th>\n",
       "    </tr>\n",
       "  </thead>\n",
       "  <tbody>\n",
       "    <tr>\n",
       "      <th>0</th>\n",
       "      <td>48fade624d47870058ce07dd789ccc04e46c70c0fa2a1b...</td>\n",
       "      <td>[-0.20255649089813232, -0.016908567398786545, ...</td>\n",
       "      <td>NaN</td>\n",
       "      <td>NaN</td>\n",
       "      <td>1548575194779</td>\n",
       "    </tr>\n",
       "    <tr>\n",
       "      <th>1</th>\n",
       "      <td>8731ca84ff7bb8cb647531d54e64feedb2519b4a7792a7...</td>\n",
       "      <td>[-0.007610442116856575, -0.14909175038337708, ...</td>\n",
       "      <td>NaN</td>\n",
       "      <td>['9ee9ffd7e2529a65f9a0b0c9eaae6330df85cf2e3af3...</td>\n",
       "      <td>1548276763869</td>\n",
       "    </tr>\n",
       "    <tr>\n",
       "      <th>2</th>\n",
       "      <td>9be980708345944960645d03606ea83b637cae9106b705...</td>\n",
       "      <td>[-0.20023074746131897, -0.03151938319206238, 0...</td>\n",
       "      <td>NaN</td>\n",
       "      <td>['7cc72dbed53bab78ec6a62feaa5052a7a1db7d201664...</td>\n",
       "      <td>1548937997295</td>\n",
       "    </tr>\n",
       "    <tr>\n",
       "      <th>3</th>\n",
       "      <td>9be980708345944960645d03606ea83b637cae9106b705...</td>\n",
       "      <td>[-0.18556387722492218, -0.07620412111282349, 0...</td>\n",
       "      <td>NaN</td>\n",
       "      <td>['62c4ddab6c1c81c74d315376b3c0dc7768c0286b3dc6...</td>\n",
       "      <td>1548938038268</td>\n",
       "    </tr>\n",
       "    <tr>\n",
       "      <th>4</th>\n",
       "      <td>9be980708345944960645d03606ea83b637cae9106b705...</td>\n",
       "      <td>[-0.03269264101982117, -0.27234694361686707, 0...</td>\n",
       "      <td>NaN</td>\n",
       "      <td>['2a0ee2924feabeec35e21e8fcb4d5b0684d190e46cef...</td>\n",
       "      <td>1548938093827</td>\n",
       "    </tr>\n",
       "  </tbody>\n",
       "</table>\n",
       "</div>"
      ],
      "text/plain": [
       "                                     session_id_hash  \\\n",
       "0  48fade624d47870058ce07dd789ccc04e46c70c0fa2a1b...   \n",
       "1  8731ca84ff7bb8cb647531d54e64feedb2519b4a7792a7...   \n",
       "2  9be980708345944960645d03606ea83b637cae9106b705...   \n",
       "3  9be980708345944960645d03606ea83b637cae9106b705...   \n",
       "4  9be980708345944960645d03606ea83b637cae9106b705...   \n",
       "\n",
       "                                        query_vector clicked_skus_hash  \\\n",
       "0  [-0.20255649089813232, -0.016908567398786545, ...               NaN   \n",
       "1  [-0.007610442116856575, -0.14909175038337708, ...               NaN   \n",
       "2  [-0.20023074746131897, -0.03151938319206238, 0...               NaN   \n",
       "3  [-0.18556387722492218, -0.07620412111282349, 0...               NaN   \n",
       "4  [-0.03269264101982117, -0.27234694361686707, 0...               NaN   \n",
       "\n",
       "                                   product_skus_hash  \\\n",
       "0                                                NaN   \n",
       "1  ['9ee9ffd7e2529a65f9a0b0c9eaae6330df85cf2e3af3...   \n",
       "2  ['7cc72dbed53bab78ec6a62feaa5052a7a1db7d201664...   \n",
       "3  ['62c4ddab6c1c81c74d315376b3c0dc7768c0286b3dc6...   \n",
       "4  ['2a0ee2924feabeec35e21e8fcb4d5b0684d190e46cef...   \n",
       "\n",
       "   server_timestamp_epoch_ms  \n",
       "0              1548575194779  \n",
       "1              1548276763869  \n",
       "2              1548937997295  \n",
       "3              1548938038268  \n",
       "4              1548938093827  "
      ]
     },
     "execution_count": 11,
     "metadata": {},
     "output_type": "execute_result"
    }
   ],
   "source": [
    "search_train.head()"
   ]
  },
  {
   "cell_type": "code",
   "execution_count": 13,
   "id": "31020a18",
   "metadata": {},
   "outputs": [
    {
     "name": "stdout",
     "output_type": "stream",
     "text": [
      "<class 'pandas.core.frame.DataFrame'>\n",
      "RangeIndex: 819516 entries, 0 to 819515\n",
      "Data columns (total 5 columns):\n",
      " #   Column                     Non-Null Count   Dtype \n",
      "---  ------                     --------------   ----- \n",
      " 0   session_id_hash            819516 non-null  object\n",
      " 1   query_vector               819516 non-null  object\n",
      " 2   clicked_skus_hash          179495 non-null  object\n",
      " 3   product_skus_hash          602754 non-null  object\n",
      " 4   server_timestamp_epoch_ms  819516 non-null  int64 \n",
      "dtypes: int64(1), object(4)\n",
      "memory usage: 31.3+ MB\n"
     ]
    }
   ],
   "source": [
    "search_train.info()"
   ]
  },
  {
   "cell_type": "code",
   "execution_count": 14,
   "id": "6e280c36",
   "metadata": {},
   "outputs": [
    {
     "name": "stdout",
     "output_type": "stream",
     "text": [
      "session_id_hash              object\n",
      "query_vector                 object\n",
      "clicked_skus_hash            object\n",
      "product_skus_hash            object\n",
      "server_timestamp_epoch_ms     int64\n",
      "dtype: object\n",
      "-----------------------\n",
      "session_id_hash              550100\n",
      "query_vector                 187049\n",
      "clicked_skus_hash             73311\n",
      "product_skus_hash            189796\n",
      "server_timestamp_epoch_ms    819136\n",
      "dtype: int64\n",
      "-----------------------\n",
      "session_id_hash                   0\n",
      "query_vector                      0\n",
      "clicked_skus_hash            640021\n",
      "product_skus_hash            216762\n",
      "server_timestamp_epoch_ms         0\n",
      "dtype: int64\n",
      "-----------------------\n"
     ]
    }
   ],
   "source": [
    "print(search_train.dtypes)\n",
    "print(\"-----------------------\")\n",
    "print(search_train.nunique())\n",
    "print(\"-----------------------\")\n",
    "print(search_train.isnull().sum())\n",
    "print(\"-----------------------\")"
   ]
  },
  {
   "cell_type": "code",
   "execution_count": 15,
   "id": "1ebcb678",
   "metadata": {},
   "outputs": [
    {
     "data": {
      "text/html": [
       "<div>\n",
       "<style scoped>\n",
       "    .dataframe tbody tr th:only-of-type {\n",
       "        vertical-align: middle;\n",
       "    }\n",
       "\n",
       "    .dataframe tbody tr th {\n",
       "        vertical-align: top;\n",
       "    }\n",
       "\n",
       "    .dataframe thead th {\n",
       "        text-align: right;\n",
       "    }\n",
       "</style>\n",
       "<table border=\"1\" class=\"dataframe\">\n",
       "  <thead>\n",
       "    <tr style=\"text-align: right;\">\n",
       "      <th></th>\n",
       "      <th>session_id_hash</th>\n",
       "      <th>query_vector</th>\n",
       "      <th>clicked_skus_hash</th>\n",
       "      <th>product_skus_hash</th>\n",
       "      <th>server_timestamp_epoch_ms</th>\n",
       "    </tr>\n",
       "  </thead>\n",
       "  <tbody>\n",
       "    <tr>\n",
       "      <th>0</th>\n",
       "      <td>48fade624d47870058ce07dd789ccc04e46c70c0fa2a1b...</td>\n",
       "      <td>[-0.20255649089813232, -0.016908567398786545, ...</td>\n",
       "      <td>NaN</td>\n",
       "      <td>NaN</td>\n",
       "      <td>1548575194779</td>\n",
       "    </tr>\n",
       "    <tr>\n",
       "      <th>1</th>\n",
       "      <td>8731ca84ff7bb8cb647531d54e64feedb2519b4a7792a7...</td>\n",
       "      <td>[-0.007610442116856575, -0.14909175038337708, ...</td>\n",
       "      <td>NaN</td>\n",
       "      <td>['9ee9ffd7e2529a65f9a0b0c9eaae6330df85cf2e3af3...</td>\n",
       "      <td>1548276763869</td>\n",
       "    </tr>\n",
       "    <tr>\n",
       "      <th>2</th>\n",
       "      <td>9be980708345944960645d03606ea83b637cae9106b705...</td>\n",
       "      <td>[-0.20023074746131897, -0.03151938319206238, 0...</td>\n",
       "      <td>NaN</td>\n",
       "      <td>['7cc72dbed53bab78ec6a62feaa5052a7a1db7d201664...</td>\n",
       "      <td>1548937997295</td>\n",
       "    </tr>\n",
       "    <tr>\n",
       "      <th>3</th>\n",
       "      <td>9be980708345944960645d03606ea83b637cae9106b705...</td>\n",
       "      <td>[-0.18556387722492218, -0.07620412111282349, 0...</td>\n",
       "      <td>NaN</td>\n",
       "      <td>['62c4ddab6c1c81c74d315376b3c0dc7768c0286b3dc6...</td>\n",
       "      <td>1548938038268</td>\n",
       "    </tr>\n",
       "    <tr>\n",
       "      <th>4</th>\n",
       "      <td>9be980708345944960645d03606ea83b637cae9106b705...</td>\n",
       "      <td>[-0.03269264101982117, -0.27234694361686707, 0...</td>\n",
       "      <td>NaN</td>\n",
       "      <td>['2a0ee2924feabeec35e21e8fcb4d5b0684d190e46cef...</td>\n",
       "      <td>1548938093827</td>\n",
       "    </tr>\n",
       "    <tr>\n",
       "      <th>...</th>\n",
       "      <td>...</td>\n",
       "      <td>...</td>\n",
       "      <td>...</td>\n",
       "      <td>...</td>\n",
       "      <td>...</td>\n",
       "    </tr>\n",
       "    <tr>\n",
       "      <th>819511</th>\n",
       "      <td>9b037012702a2dadee910c6b71b691b6ba072b22f41b7b...</td>\n",
       "      <td>[-0.04411918669939041, -0.15845978260040283, -...</td>\n",
       "      <td>['f023b48bf46355aa4844b8c9bd51e478a22f17b9be83...</td>\n",
       "      <td>['12db169815cb93aaeeb1d427d6c0eea62ba4961e43c4...</td>\n",
       "      <td>1548987598321</td>\n",
       "    </tr>\n",
       "    <tr>\n",
       "      <th>819512</th>\n",
       "      <td>9b037012702a2dadee910c6b71b691b6ba072b22f41b7b...</td>\n",
       "      <td>[-0.033466748893260956, 0.06939797103404999, -...</td>\n",
       "      <td>['1379461daf84128449e010af5f2a0d37837bac53c854...</td>\n",
       "      <td>['956c335d2f59c1853f499420ae4e85250a6c7190a1df...</td>\n",
       "      <td>1548987688646</td>\n",
       "    </tr>\n",
       "    <tr>\n",
       "      <th>819513</th>\n",
       "      <td>fdf03b124f6cb368c42a9408bc1186e4ea1465cacd5855...</td>\n",
       "      <td>[-0.04076826199889183, -0.3194904327392578, 0....</td>\n",
       "      <td>NaN</td>\n",
       "      <td>NaN</td>\n",
       "      <td>1548554188376</td>\n",
       "    </tr>\n",
       "    <tr>\n",
       "      <th>819514</th>\n",
       "      <td>fdf03b124f6cb368c42a9408bc1186e4ea1465cacd5855...</td>\n",
       "      <td>[0.0175111535936594, -0.2686958312988281, 0.07...</td>\n",
       "      <td>NaN</td>\n",
       "      <td>['32ead81a7b89168dc472d162a3d7654db02d99bb88b3...</td>\n",
       "      <td>1548554908239</td>\n",
       "    </tr>\n",
       "    <tr>\n",
       "      <th>819515</th>\n",
       "      <td>fdf03b124f6cb368c42a9408bc1186e4ea1465cacd5855...</td>\n",
       "      <td>[0.007162265479564667, -0.24418511986732483, 0...</td>\n",
       "      <td>NaN</td>\n",
       "      <td>['05ad56d73cded3e417965b566d3291dc70e8fe3070ec...</td>\n",
       "      <td>1548555018635</td>\n",
       "    </tr>\n",
       "  </tbody>\n",
       "</table>\n",
       "<p>819516 rows × 5 columns</p>\n",
       "</div>"
      ],
      "text/plain": [
       "                                          session_id_hash  \\\n",
       "0       48fade624d47870058ce07dd789ccc04e46c70c0fa2a1b...   \n",
       "1       8731ca84ff7bb8cb647531d54e64feedb2519b4a7792a7...   \n",
       "2       9be980708345944960645d03606ea83b637cae9106b705...   \n",
       "3       9be980708345944960645d03606ea83b637cae9106b705...   \n",
       "4       9be980708345944960645d03606ea83b637cae9106b705...   \n",
       "...                                                   ...   \n",
       "819511  9b037012702a2dadee910c6b71b691b6ba072b22f41b7b...   \n",
       "819512  9b037012702a2dadee910c6b71b691b6ba072b22f41b7b...   \n",
       "819513  fdf03b124f6cb368c42a9408bc1186e4ea1465cacd5855...   \n",
       "819514  fdf03b124f6cb368c42a9408bc1186e4ea1465cacd5855...   \n",
       "819515  fdf03b124f6cb368c42a9408bc1186e4ea1465cacd5855...   \n",
       "\n",
       "                                             query_vector  \\\n",
       "0       [-0.20255649089813232, -0.016908567398786545, ...   \n",
       "1       [-0.007610442116856575, -0.14909175038337708, ...   \n",
       "2       [-0.20023074746131897, -0.03151938319206238, 0...   \n",
       "3       [-0.18556387722492218, -0.07620412111282349, 0...   \n",
       "4       [-0.03269264101982117, -0.27234694361686707, 0...   \n",
       "...                                                   ...   \n",
       "819511  [-0.04411918669939041, -0.15845978260040283, -...   \n",
       "819512  [-0.033466748893260956, 0.06939797103404999, -...   \n",
       "819513  [-0.04076826199889183, -0.3194904327392578, 0....   \n",
       "819514  [0.0175111535936594, -0.2686958312988281, 0.07...   \n",
       "819515  [0.007162265479564667, -0.24418511986732483, 0...   \n",
       "\n",
       "                                        clicked_skus_hash  \\\n",
       "0                                                     NaN   \n",
       "1                                                     NaN   \n",
       "2                                                     NaN   \n",
       "3                                                     NaN   \n",
       "4                                                     NaN   \n",
       "...                                                   ...   \n",
       "819511  ['f023b48bf46355aa4844b8c9bd51e478a22f17b9be83...   \n",
       "819512  ['1379461daf84128449e010af5f2a0d37837bac53c854...   \n",
       "819513                                                NaN   \n",
       "819514                                                NaN   \n",
       "819515                                                NaN   \n",
       "\n",
       "                                        product_skus_hash  \\\n",
       "0                                                     NaN   \n",
       "1       ['9ee9ffd7e2529a65f9a0b0c9eaae6330df85cf2e3af3...   \n",
       "2       ['7cc72dbed53bab78ec6a62feaa5052a7a1db7d201664...   \n",
       "3       ['62c4ddab6c1c81c74d315376b3c0dc7768c0286b3dc6...   \n",
       "4       ['2a0ee2924feabeec35e21e8fcb4d5b0684d190e46cef...   \n",
       "...                                                   ...   \n",
       "819511  ['12db169815cb93aaeeb1d427d6c0eea62ba4961e43c4...   \n",
       "819512  ['956c335d2f59c1853f499420ae4e85250a6c7190a1df...   \n",
       "819513                                                NaN   \n",
       "819514  ['32ead81a7b89168dc472d162a3d7654db02d99bb88b3...   \n",
       "819515  ['05ad56d73cded3e417965b566d3291dc70e8fe3070ec...   \n",
       "\n",
       "        server_timestamp_epoch_ms  \n",
       "0                   1548575194779  \n",
       "1                   1548276763869  \n",
       "2                   1548937997295  \n",
       "3                   1548938038268  \n",
       "4                   1548938093827  \n",
       "...                           ...  \n",
       "819511              1548987598321  \n",
       "819512              1548987688646  \n",
       "819513              1548554188376  \n",
       "819514              1548554908239  \n",
       "819515              1548555018635  \n",
       "\n",
       "[819516 rows x 5 columns]"
      ]
     },
     "execution_count": 15,
     "metadata": {},
     "output_type": "execute_result"
    }
   ],
   "source": [
    "search_train"
   ]
  },
  {
   "cell_type": "code",
   "execution_count": null,
   "id": "f20fc7ef",
   "metadata": {},
   "outputs": [],
   "source": [
    "#search_train.dropna(subset=['clicked_skus_hash', 'product_skus_hash'], inplace=True)"
   ]
  },
  {
   "cell_type": "code",
   "execution_count": null,
   "id": "f92e469b",
   "metadata": {},
   "outputs": [],
   "source": [
    "search_train.info()"
   ]
  },
  {
   "cell_type": "code",
   "execution_count": null,
   "id": "c2867ce5",
   "metadata": {},
   "outputs": [],
   "source": [
    "#search_train.to_csv('New_search_events.csv', index=False)"
   ]
  },
  {
   "cell_type": "markdown",
   "id": "73570bad",
   "metadata": {},
   "source": [
    "### Product sku to content "
   ]
  },
  {
   "cell_type": "code",
   "execution_count": 16,
   "id": "2310eb11",
   "metadata": {},
   "outputs": [],
   "source": [
    "sku_train = pd.read_csv('C:/Users/Lokesh/Desktop/Submission/0. Datasets/sku_to_content.csv')"
   ]
  },
  {
   "cell_type": "code",
   "execution_count": 17,
   "id": "b4d4082d",
   "metadata": {},
   "outputs": [
    {
     "data": {
      "text/html": [
       "<div>\n",
       "<style scoped>\n",
       "    .dataframe tbody tr th:only-of-type {\n",
       "        vertical-align: middle;\n",
       "    }\n",
       "\n",
       "    .dataframe tbody tr th {\n",
       "        vertical-align: top;\n",
       "    }\n",
       "\n",
       "    .dataframe thead th {\n",
       "        text-align: right;\n",
       "    }\n",
       "</style>\n",
       "<table border=\"1\" class=\"dataframe\">\n",
       "  <thead>\n",
       "    <tr style=\"text-align: right;\">\n",
       "      <th></th>\n",
       "      <th>product_sku_hash</th>\n",
       "      <th>description_vector</th>\n",
       "      <th>category_hash</th>\n",
       "      <th>image_vector</th>\n",
       "      <th>price_bucket</th>\n",
       "    </tr>\n",
       "  </thead>\n",
       "  <tbody>\n",
       "    <tr>\n",
       "      <th>0</th>\n",
       "      <td>26ce7b47f4c46e4087e83e54d2f7ddc7ea57862fed2e2a...</td>\n",
       "      <td>NaN</td>\n",
       "      <td>NaN</td>\n",
       "      <td>NaN</td>\n",
       "      <td>NaN</td>\n",
       "    </tr>\n",
       "    <tr>\n",
       "      <th>1</th>\n",
       "      <td>6383992be772b204a9ab75f86c86f5583d1bdd1222952d...</td>\n",
       "      <td>NaN</td>\n",
       "      <td>NaN</td>\n",
       "      <td>NaN</td>\n",
       "      <td>NaN</td>\n",
       "    </tr>\n",
       "    <tr>\n",
       "      <th>2</th>\n",
       "      <td>a2c3e2430c6ef9770b903ad08fa067a6b2b9db28f06e1b...</td>\n",
       "      <td>[0.27629122138023376, -0.15763211250305176, 0....</td>\n",
       "      <td>06fa312761d4b39e2f649781514ac69a4c1505c221fc46...</td>\n",
       "      <td>[340.3592564184389, -220.19025864725685, 154.0...</td>\n",
       "      <td>7.0</td>\n",
       "    </tr>\n",
       "    <tr>\n",
       "      <th>3</th>\n",
       "      <td>1028ef615e425c328e7b95010dfb1fb93cf63749a1bc80...</td>\n",
       "      <td>[0.4058118760585785, -0.03595402091741562, 0.2...</td>\n",
       "      <td>115a6a7017ee55752b8487c77dfde92b0d501d10a2e69c...</td>\n",
       "      <td>[180.3463662921092, 222.702322343354, -8.88703...</td>\n",
       "      <td>8.0</td>\n",
       "    </tr>\n",
       "    <tr>\n",
       "      <th>4</th>\n",
       "      <td>9870c682d0d52d635501249da0eeaa118fad430b695ea1...</td>\n",
       "      <td>[-0.3206155300140381, 0.01991105079650879, 0.0...</td>\n",
       "      <td>0665a81d19c89281cc00e7f7d779ded2ed42c933838602...</td>\n",
       "      <td>[-114.81079301576219, 84.55770104232334, 85.51...</td>\n",
       "      <td>2.0</td>\n",
       "    </tr>\n",
       "  </tbody>\n",
       "</table>\n",
       "</div>"
      ],
      "text/plain": [
       "                                    product_sku_hash  \\\n",
       "0  26ce7b47f4c46e4087e83e54d2f7ddc7ea57862fed2e2a...   \n",
       "1  6383992be772b204a9ab75f86c86f5583d1bdd1222952d...   \n",
       "2  a2c3e2430c6ef9770b903ad08fa067a6b2b9db28f06e1b...   \n",
       "3  1028ef615e425c328e7b95010dfb1fb93cf63749a1bc80...   \n",
       "4  9870c682d0d52d635501249da0eeaa118fad430b695ea1...   \n",
       "\n",
       "                                  description_vector  \\\n",
       "0                                                NaN   \n",
       "1                                                NaN   \n",
       "2  [0.27629122138023376, -0.15763211250305176, 0....   \n",
       "3  [0.4058118760585785, -0.03595402091741562, 0.2...   \n",
       "4  [-0.3206155300140381, 0.01991105079650879, 0.0...   \n",
       "\n",
       "                                       category_hash  \\\n",
       "0                                                NaN   \n",
       "1                                                NaN   \n",
       "2  06fa312761d4b39e2f649781514ac69a4c1505c221fc46...   \n",
       "3  115a6a7017ee55752b8487c77dfde92b0d501d10a2e69c...   \n",
       "4  0665a81d19c89281cc00e7f7d779ded2ed42c933838602...   \n",
       "\n",
       "                                        image_vector  price_bucket  \n",
       "0                                                NaN           NaN  \n",
       "1                                                NaN           NaN  \n",
       "2  [340.3592564184389, -220.19025864725685, 154.0...           7.0  \n",
       "3  [180.3463662921092, 222.702322343354, -8.88703...           8.0  \n",
       "4  [-114.81079301576219, 84.55770104232334, 85.51...           2.0  "
      ]
     },
     "execution_count": 17,
     "metadata": {},
     "output_type": "execute_result"
    }
   ],
   "source": [
    "sku_train.head()"
   ]
  },
  {
   "cell_type": "code",
   "execution_count": null,
   "id": "05fb824d",
   "metadata": {},
   "outputs": [],
   "source": [
    "sku_train.columns"
   ]
  },
  {
   "cell_type": "code",
   "execution_count": 18,
   "id": "190d6d42",
   "metadata": {},
   "outputs": [
    {
     "name": "stdout",
     "output_type": "stream",
     "text": [
      "<class 'pandas.core.frame.DataFrame'>\n",
      "RangeIndex: 66386 entries, 0 to 66385\n",
      "Data columns (total 5 columns):\n",
      " #   Column              Non-Null Count  Dtype  \n",
      "---  ------              --------------  -----  \n",
      " 0   product_sku_hash    66386 non-null  object \n",
      " 1   description_vector  31950 non-null  object \n",
      " 2   category_hash       32052 non-null  object \n",
      " 3   image_vector        28370 non-null  object \n",
      " 4   price_bucket        32038 non-null  float64\n",
      "dtypes: float64(1), object(4)\n",
      "memory usage: 2.5+ MB\n"
     ]
    }
   ],
   "source": [
    "sku_train.info()"
   ]
  },
  {
   "cell_type": "code",
   "execution_count": 19,
   "id": "7b07bcce",
   "metadata": {},
   "outputs": [
    {
     "name": "stdout",
     "output_type": "stream",
     "text": [
      "product_sku_hash       object\n",
      "description_vector     object\n",
      "category_hash          object\n",
      "image_vector           object\n",
      "price_bucket          float64\n",
      "dtype: object\n",
      "-----------------\n",
      "product_sku_hash      66386\n",
      "description_vector    24536\n",
      "category_hash           174\n",
      "image_vector          27916\n",
      "price_bucket             10\n",
      "dtype: int64\n",
      "-----------------------\n",
      "product_sku_hash          0\n",
      "description_vector    34436\n",
      "category_hash         34334\n",
      "image_vector          38016\n",
      "price_bucket          34348\n",
      "dtype: int64\n",
      "-----------------------\n"
     ]
    }
   ],
   "source": [
    "print(sku_train.dtypes)\n",
    "print('-----------------')\n",
    "print(sku_train.nunique())\n",
    "print(\"-----------------------\")\n",
    "print(sku_train.isnull().sum())\n",
    "print(\"-----------------------\")"
   ]
  },
  {
   "cell_type": "code",
   "execution_count": 20,
   "id": "4bd7ec7f",
   "metadata": {},
   "outputs": [
    {
     "data": {
      "text/html": [
       "<div>\n",
       "<style scoped>\n",
       "    .dataframe tbody tr th:only-of-type {\n",
       "        vertical-align: middle;\n",
       "    }\n",
       "\n",
       "    .dataframe tbody tr th {\n",
       "        vertical-align: top;\n",
       "    }\n",
       "\n",
       "    .dataframe thead th {\n",
       "        text-align: right;\n",
       "    }\n",
       "</style>\n",
       "<table border=\"1\" class=\"dataframe\">\n",
       "  <thead>\n",
       "    <tr style=\"text-align: right;\">\n",
       "      <th></th>\n",
       "      <th>product_sku_hash</th>\n",
       "      <th>description_vector</th>\n",
       "      <th>category_hash</th>\n",
       "      <th>image_vector</th>\n",
       "      <th>price_bucket</th>\n",
       "    </tr>\n",
       "  </thead>\n",
       "  <tbody>\n",
       "    <tr>\n",
       "      <th>0</th>\n",
       "      <td>26ce7b47f4c46e4087e83e54d2f7ddc7ea57862fed2e2a...</td>\n",
       "      <td>NaN</td>\n",
       "      <td>NaN</td>\n",
       "      <td>NaN</td>\n",
       "      <td>NaN</td>\n",
       "    </tr>\n",
       "    <tr>\n",
       "      <th>1</th>\n",
       "      <td>6383992be772b204a9ab75f86c86f5583d1bdd1222952d...</td>\n",
       "      <td>NaN</td>\n",
       "      <td>NaN</td>\n",
       "      <td>NaN</td>\n",
       "      <td>NaN</td>\n",
       "    </tr>\n",
       "    <tr>\n",
       "      <th>2</th>\n",
       "      <td>a2c3e2430c6ef9770b903ad08fa067a6b2b9db28f06e1b...</td>\n",
       "      <td>[0.27629122138023376, -0.15763211250305176, 0....</td>\n",
       "      <td>06fa312761d4b39e2f649781514ac69a4c1505c221fc46...</td>\n",
       "      <td>[340.3592564184389, -220.19025864725685, 154.0...</td>\n",
       "      <td>7.0</td>\n",
       "    </tr>\n",
       "    <tr>\n",
       "      <th>3</th>\n",
       "      <td>1028ef615e425c328e7b95010dfb1fb93cf63749a1bc80...</td>\n",
       "      <td>[0.4058118760585785, -0.03595402091741562, 0.2...</td>\n",
       "      <td>115a6a7017ee55752b8487c77dfde92b0d501d10a2e69c...</td>\n",
       "      <td>[180.3463662921092, 222.702322343354, -8.88703...</td>\n",
       "      <td>8.0</td>\n",
       "    </tr>\n",
       "    <tr>\n",
       "      <th>4</th>\n",
       "      <td>9870c682d0d52d635501249da0eeaa118fad430b695ea1...</td>\n",
       "      <td>[-0.3206155300140381, 0.01991105079650879, 0.0...</td>\n",
       "      <td>0665a81d19c89281cc00e7f7d779ded2ed42c933838602...</td>\n",
       "      <td>[-114.81079301576219, 84.55770104232334, 85.51...</td>\n",
       "      <td>2.0</td>\n",
       "    </tr>\n",
       "    <tr>\n",
       "      <th>...</th>\n",
       "      <td>...</td>\n",
       "      <td>...</td>\n",
       "      <td>...</td>\n",
       "      <td>...</td>\n",
       "      <td>...</td>\n",
       "    </tr>\n",
       "    <tr>\n",
       "      <th>66381</th>\n",
       "      <td>c7cc673ca3baa5fa222fffdc16379892b3a62583a48143...</td>\n",
       "      <td>NaN</td>\n",
       "      <td>NaN</td>\n",
       "      <td>NaN</td>\n",
       "      <td>NaN</td>\n",
       "    </tr>\n",
       "    <tr>\n",
       "      <th>66382</th>\n",
       "      <td>6641c7d2053ce48ce1e81a9653dffe56dbb79ab0704fbd...</td>\n",
       "      <td>[-0.19150441884994507, -0.06235162168741226, -...</td>\n",
       "      <td>0665a81d19c89281cc00e7f7d779ded2ed42c933838602...</td>\n",
       "      <td>[129.55668732976045, 43.27996741934932, -36.70...</td>\n",
       "      <td>3.0</td>\n",
       "    </tr>\n",
       "    <tr>\n",
       "      <th>66383</th>\n",
       "      <td>526a6a51717d5bb40ef2b0c47394d08c54385375633bab...</td>\n",
       "      <td>[-0.19760936498641968, 0.4446450471878052, -0....</td>\n",
       "      <td>0665a81d19c89281cc00e7f7d779ded2ed42c933838602...</td>\n",
       "      <td>[-158.25984189321855, 74.19255741438077, 199.6...</td>\n",
       "      <td>5.0</td>\n",
       "    </tr>\n",
       "    <tr>\n",
       "      <th>66384</th>\n",
       "      <td>21ca4ab0e2fbd3b401fbeadeb4439dcab9998fb52159ec...</td>\n",
       "      <td>NaN</td>\n",
       "      <td>NaN</td>\n",
       "      <td>NaN</td>\n",
       "      <td>NaN</td>\n",
       "    </tr>\n",
       "    <tr>\n",
       "      <th>66385</th>\n",
       "      <td>0eaa39fb645749da181c0637d3b420f3f103b5f6b50286...</td>\n",
       "      <td>NaN</td>\n",
       "      <td>NaN</td>\n",
       "      <td>NaN</td>\n",
       "      <td>NaN</td>\n",
       "    </tr>\n",
       "  </tbody>\n",
       "</table>\n",
       "<p>66386 rows × 5 columns</p>\n",
       "</div>"
      ],
      "text/plain": [
       "                                        product_sku_hash  \\\n",
       "0      26ce7b47f4c46e4087e83e54d2f7ddc7ea57862fed2e2a...   \n",
       "1      6383992be772b204a9ab75f86c86f5583d1bdd1222952d...   \n",
       "2      a2c3e2430c6ef9770b903ad08fa067a6b2b9db28f06e1b...   \n",
       "3      1028ef615e425c328e7b95010dfb1fb93cf63749a1bc80...   \n",
       "4      9870c682d0d52d635501249da0eeaa118fad430b695ea1...   \n",
       "...                                                  ...   \n",
       "66381  c7cc673ca3baa5fa222fffdc16379892b3a62583a48143...   \n",
       "66382  6641c7d2053ce48ce1e81a9653dffe56dbb79ab0704fbd...   \n",
       "66383  526a6a51717d5bb40ef2b0c47394d08c54385375633bab...   \n",
       "66384  21ca4ab0e2fbd3b401fbeadeb4439dcab9998fb52159ec...   \n",
       "66385  0eaa39fb645749da181c0637d3b420f3f103b5f6b50286...   \n",
       "\n",
       "                                      description_vector  \\\n",
       "0                                                    NaN   \n",
       "1                                                    NaN   \n",
       "2      [0.27629122138023376, -0.15763211250305176, 0....   \n",
       "3      [0.4058118760585785, -0.03595402091741562, 0.2...   \n",
       "4      [-0.3206155300140381, 0.01991105079650879, 0.0...   \n",
       "...                                                  ...   \n",
       "66381                                                NaN   \n",
       "66382  [-0.19150441884994507, -0.06235162168741226, -...   \n",
       "66383  [-0.19760936498641968, 0.4446450471878052, -0....   \n",
       "66384                                                NaN   \n",
       "66385                                                NaN   \n",
       "\n",
       "                                           category_hash  \\\n",
       "0                                                    NaN   \n",
       "1                                                    NaN   \n",
       "2      06fa312761d4b39e2f649781514ac69a4c1505c221fc46...   \n",
       "3      115a6a7017ee55752b8487c77dfde92b0d501d10a2e69c...   \n",
       "4      0665a81d19c89281cc00e7f7d779ded2ed42c933838602...   \n",
       "...                                                  ...   \n",
       "66381                                                NaN   \n",
       "66382  0665a81d19c89281cc00e7f7d779ded2ed42c933838602...   \n",
       "66383  0665a81d19c89281cc00e7f7d779ded2ed42c933838602...   \n",
       "66384                                                NaN   \n",
       "66385                                                NaN   \n",
       "\n",
       "                                            image_vector  price_bucket  \n",
       "0                                                    NaN           NaN  \n",
       "1                                                    NaN           NaN  \n",
       "2      [340.3592564184389, -220.19025864725685, 154.0...           7.0  \n",
       "3      [180.3463662921092, 222.702322343354, -8.88703...           8.0  \n",
       "4      [-114.81079301576219, 84.55770104232334, 85.51...           2.0  \n",
       "...                                                  ...           ...  \n",
       "66381                                                NaN           NaN  \n",
       "66382  [129.55668732976045, 43.27996741934932, -36.70...           3.0  \n",
       "66383  [-158.25984189321855, 74.19255741438077, 199.6...           5.0  \n",
       "66384                                                NaN           NaN  \n",
       "66385                                                NaN           NaN  \n",
       "\n",
       "[66386 rows x 5 columns]"
      ]
     },
     "execution_count": 20,
     "metadata": {},
     "output_type": "execute_result"
    }
   ],
   "source": [
    "sku_train"
   ]
  },
  {
   "cell_type": "code",
   "execution_count": null,
   "id": "1663b1a7",
   "metadata": {},
   "outputs": [],
   "source": [
    "sku_df.columns"
   ]
  },
  {
   "cell_type": "code",
   "execution_count": null,
   "id": "93267adb",
   "metadata": {},
   "outputs": [],
   "source": [
    "sku_df.info()"
   ]
  },
  {
   "cell_type": "markdown",
   "id": "1c368fd0",
   "metadata": {},
   "source": [
    "# Data Sampling"
   ]
  },
  {
   "cell_type": "code",
   "execution_count": null,
   "id": "9dc4f72d",
   "metadata": {},
   "outputs": [],
   "source": [
    "product_df = pd.read_csv('C:/Users/Lokesh/Desktop/Submission/0. Datasets/New_browsing_events(product only).csv')"
   ]
  },
  {
   "cell_type": "code",
   "execution_count": null,
   "id": "55c66fee",
   "metadata": {},
   "outputs": [],
   "source": [
    "product_df.head()"
   ]
  },
  {
   "cell_type": "code",
   "execution_count": null,
   "id": "ef31cd72",
   "metadata": {},
   "outputs": [],
   "source": [
    "product_df['product_action'].value_counts()"
   ]
  },
  {
   "cell_type": "code",
   "execution_count": null,
   "id": "abc39336",
   "metadata": {},
   "outputs": [],
   "source": [
    "sample_df = product_df"
   ]
  },
  {
   "cell_type": "code",
   "execution_count": null,
   "id": "c44b1ae6",
   "metadata": {},
   "outputs": [],
   "source": [
    "sample_df.info()"
   ]
  },
  {
   "cell_type": "code",
   "execution_count": null,
   "id": "5e0800f3",
   "metadata": {},
   "outputs": [],
   "source": [
    "# check the number of unique customers \n",
    "sessions_list = sample_df[\"session_id_hash\"].unique().tolist()\n",
    "len(sessions_list)"
   ]
  },
  {
   "cell_type": "code",
   "execution_count": null,
   "id": "3325785f",
   "metadata": {},
   "outputs": [],
   "source": [
    "sample_df['session_id_hash'].nunique()"
   ]
  },
  {
   "cell_type": "code",
   "execution_count": null,
   "id": "2dc749f0",
   "metadata": {},
   "outputs": [],
   "source": [
    "import random"
   ]
  },
  {
   "cell_type": "code",
   "execution_count": null,
   "id": "7b8b5b14",
   "metadata": {},
   "outputs": [],
   "source": [
    "#get a random sample of the dataset \n",
    "# 30% of the original maybe \n",
    "\n",
    "sample1 = random.sample(sessions_list, round(0.3*len(sessions_list)))\n"
   ]
  },
  {
   "cell_type": "code",
   "execution_count": null,
   "id": "90aa2199",
   "metadata": {},
   "outputs": [],
   "source": [
    "len(sample1)"
   ]
  },
  {
   "cell_type": "code",
   "execution_count": null,
   "id": "a41f03fd",
   "metadata": {},
   "outputs": [],
   "source": [
    "# Get \n",
    "sample_train_df = sample_df[sample_df['session_id_hash'].isin(sample1)]"
   ]
  },
  {
   "cell_type": "code",
   "execution_count": null,
   "id": "f9d21f20",
   "metadata": {},
   "outputs": [],
   "source": [
    "sample_train_df.head()"
   ]
  },
  {
   "cell_type": "code",
   "execution_count": null,
   "id": "2b876053",
   "metadata": {},
   "outputs": [],
   "source": [
    "sample_train_df = sample_train_df.reset_index(drop=True)"
   ]
  },
  {
   "cell_type": "code",
   "execution_count": null,
   "id": "b07f861e",
   "metadata": {},
   "outputs": [],
   "source": [
    "sample_train_df.head()"
   ]
  },
  {
   "cell_type": "code",
   "execution_count": null,
   "id": "16f50e82",
   "metadata": {},
   "outputs": [],
   "source": [
    "sample_train_df.info()"
   ]
  },
  {
   "cell_type": "code",
   "execution_count": null,
   "id": "ae285f11",
   "metadata": {},
   "outputs": [],
   "source": [
    "sample_train_df['session_id_hash'].nunique()"
   ]
  },
  {
   "cell_type": "code",
   "execution_count": null,
   "id": "c041091f",
   "metadata": {},
   "outputs": [],
   "source": [
    "print(round(0.3*len(sessions_list)))"
   ]
  },
  {
   "cell_type": "code",
   "execution_count": null,
   "id": "3ec56661",
   "metadata": {},
   "outputs": [],
   "source": [
    "sample_train_df.info()"
   ]
  },
  {
   "cell_type": "code",
   "execution_count": null,
   "id": "c31bc5da",
   "metadata": {},
   "outputs": [],
   "source": [
    "sample_train_df.to_csv('Sample_browsing_train.csv', index=False)"
   ]
  },
  {
   "cell_type": "code",
   "execution_count": null,
   "id": "96144fe4",
   "metadata": {},
   "outputs": [],
   "source": []
  }
 ],
 "metadata": {
  "kernelspec": {
   "display_name": "Python 3 (ipykernel)",
   "language": "python",
   "name": "python3"
  },
  "language_info": {
   "codemirror_mode": {
    "name": "ipython",
    "version": 3
   },
   "file_extension": ".py",
   "mimetype": "text/x-python",
   "name": "python",
   "nbconvert_exporter": "python",
   "pygments_lexer": "ipython3",
   "version": "3.9.7"
  }
 },
 "nbformat": 4,
 "nbformat_minor": 5
}
