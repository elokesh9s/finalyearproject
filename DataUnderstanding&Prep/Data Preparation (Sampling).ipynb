{
 "cells": [
  {
   "cell_type": "markdown",
   "id": "cab20e2d",
   "metadata": {},
   "source": [
    "# ANL488 Project - Session-based Recommendation Systems"
   ]
  },
  {
   "cell_type": "markdown",
   "id": "e89e49ef",
   "metadata": {},
   "source": [
    "### Data sampling "
   ]
  },
  {
   "cell_type": "code",
   "execution_count": 1,
   "id": "815f4cd3",
   "metadata": {},
   "outputs": [
    {
     "data": {
      "text/plain": [
       "'\\nData sampling is part of data preparation. Since, our data is quite big. A sample data might proof useful or faster \\nin many cases. We can use it before the actual data thus it is important. \\n\\n'"
      ]
     },
     "execution_count": 1,
     "metadata": {},
     "output_type": "execute_result"
    }
   ],
   "source": [
    "\"\"\"\n",
    "Data sampling is part of data preparation. Since, our data is quite big. A sample data might proof useful or faster \n",
    "in many cases. We can use it before the actual data thus it is important. \n",
    "\n",
    "\"\"\""
   ]
  },
  {
   "cell_type": "code",
   "execution_count": 3,
   "id": "06bfe527",
   "metadata": {},
   "outputs": [],
   "source": [
    "#import libraries \n",
    "\n",
    "import pandas as pd \n",
    "import numpy as np\n",
    "import seaborn as sns\n",
    "import matplotlib.pyplot as plt\n",
    "%matplotlib inline"
   ]
  },
  {
   "cell_type": "code",
   "execution_count": 4,
   "id": "b260edad",
   "metadata": {},
   "outputs": [],
   "source": [
    "import time \n",
    "import sys\n",
    "from tqdm import tqdm"
   ]
  },
  {
   "cell_type": "code",
   "execution_count": 5,
   "id": "a360ca1a",
   "metadata": {},
   "outputs": [],
   "source": [
    "#start samling"
   ]
  },
  {
   "cell_type": "code",
   "execution_count": 6,
   "id": "98ceb6b3",
   "metadata": {},
   "outputs": [],
   "source": [
    "# df to bring data \n",
    "\n",
    "main_df = pd.read_csv('New_browsing(product only).csv')"
   ]
  },
  {
   "cell_type": "code",
   "execution_count": 7,
   "id": "418ae7f7",
   "metadata": {},
   "outputs": [
    {
     "data": {
      "text/html": [
       "<div>\n",
       "<style scoped>\n",
       "    .dataframe tbody tr th:only-of-type {\n",
       "        vertical-align: middle;\n",
       "    }\n",
       "\n",
       "    .dataframe tbody tr th {\n",
       "        vertical-align: top;\n",
       "    }\n",
       "\n",
       "    .dataframe thead th {\n",
       "        text-align: right;\n",
       "    }\n",
       "</style>\n",
       "<table border=\"1\" class=\"dataframe\">\n",
       "  <thead>\n",
       "    <tr style=\"text-align: right;\">\n",
       "      <th></th>\n",
       "      <th>SessionId</th>\n",
       "      <th>product_action</th>\n",
       "      <th>product_sku_hash</th>\n",
       "      <th>server_timestamp_epoch_ms</th>\n",
       "      <th>time</th>\n",
       "    </tr>\n",
       "  </thead>\n",
       "  <tbody>\n",
       "    <tr>\n",
       "      <th>0</th>\n",
       "      <td>0</td>\n",
       "      <td>detail</td>\n",
       "      <td>cf2f88cb43c1713538f7dfd2aa498a2cb9ebc0c99feeac...</td>\n",
       "      <td>1552423391039</td>\n",
       "      <td>2019-03-12 20:43:11</td>\n",
       "    </tr>\n",
       "    <tr>\n",
       "      <th>1</th>\n",
       "      <td>0</td>\n",
       "      <td>add</td>\n",
       "      <td>cf2f88cb43c1713538f7dfd2aa498a2cb9ebc0c99feeac...</td>\n",
       "      <td>1552424389158</td>\n",
       "      <td>2019-03-12 20:59:49</td>\n",
       "    </tr>\n",
       "    <tr>\n",
       "      <th>2</th>\n",
       "      <td>0</td>\n",
       "      <td>detail</td>\n",
       "      <td>4945f2fa8e87cb7501702ed3dce26253296eae7a8f670f...</td>\n",
       "      <td>1552426684381</td>\n",
       "      <td>2019-03-12 21:38:04</td>\n",
       "    </tr>\n",
       "    <tr>\n",
       "      <th>3</th>\n",
       "      <td>0</td>\n",
       "      <td>detail</td>\n",
       "      <td>6ff8d0f30bbe66cfec7d87fc7e22bd8b1defd47ff4aaaa...</td>\n",
       "      <td>1552426755233</td>\n",
       "      <td>2019-03-12 21:39:15</td>\n",
       "    </tr>\n",
       "    <tr>\n",
       "      <th>4</th>\n",
       "      <td>0</td>\n",
       "      <td>detail</td>\n",
       "      <td>cf2f88cb43c1713538f7dfd2aa498a2cb9ebc0c99feeac...</td>\n",
       "      <td>1552426869735</td>\n",
       "      <td>2019-03-12 21:41:09</td>\n",
       "    </tr>\n",
       "    <tr>\n",
       "      <th>...</th>\n",
       "      <td>...</td>\n",
       "      <td>...</td>\n",
       "      <td>...</td>\n",
       "      <td>...</td>\n",
       "      <td>...</td>\n",
       "    </tr>\n",
       "    <tr>\n",
       "      <th>10431606</th>\n",
       "      <td>3280583</td>\n",
       "      <td>detail</td>\n",
       "      <td>a532a9b9d11dcb3358677f9ff2d41d95f015331acbd632...</td>\n",
       "      <td>1550718210565</td>\n",
       "      <td>2019-02-21 03:03:30</td>\n",
       "    </tr>\n",
       "    <tr>\n",
       "      <th>10431607</th>\n",
       "      <td>3280583</td>\n",
       "      <td>detail</td>\n",
       "      <td>3011fe75d8739f217851a68d4c7ab40cce7dd5031f9080...</td>\n",
       "      <td>1550718249795</td>\n",
       "      <td>2019-02-21 03:04:09</td>\n",
       "    </tr>\n",
       "    <tr>\n",
       "      <th>10431608</th>\n",
       "      <td>3280583</td>\n",
       "      <td>detail</td>\n",
       "      <td>ea950a72ea131ef7181c7dd03f1ed77396648060c1e9cd...</td>\n",
       "      <td>1550718557956</td>\n",
       "      <td>2019-02-21 03:09:17</td>\n",
       "    </tr>\n",
       "    <tr>\n",
       "      <th>10431609</th>\n",
       "      <td>3280583</td>\n",
       "      <td>detail</td>\n",
       "      <td>bed8a2b601108932cbd8b3b14cde1d4919262c60b35cad...</td>\n",
       "      <td>1550718613724</td>\n",
       "      <td>2019-02-21 03:10:13</td>\n",
       "    </tr>\n",
       "    <tr>\n",
       "      <th>10431610</th>\n",
       "      <td>3280583</td>\n",
       "      <td>detail</td>\n",
       "      <td>2b1dd7624847cfe832fb6aaba59834f34008ed2820bca3...</td>\n",
       "      <td>1550718642814</td>\n",
       "      <td>2019-02-21 03:10:42</td>\n",
       "    </tr>\n",
       "  </tbody>\n",
       "</table>\n",
       "<p>10431611 rows × 5 columns</p>\n",
       "</div>"
      ],
      "text/plain": [
       "          SessionId product_action  \\\n",
       "0                 0         detail   \n",
       "1                 0            add   \n",
       "2                 0         detail   \n",
       "3                 0         detail   \n",
       "4                 0         detail   \n",
       "...             ...            ...   \n",
       "10431606    3280583         detail   \n",
       "10431607    3280583         detail   \n",
       "10431608    3280583         detail   \n",
       "10431609    3280583         detail   \n",
       "10431610    3280583         detail   \n",
       "\n",
       "                                           product_sku_hash  \\\n",
       "0         cf2f88cb43c1713538f7dfd2aa498a2cb9ebc0c99feeac...   \n",
       "1         cf2f88cb43c1713538f7dfd2aa498a2cb9ebc0c99feeac...   \n",
       "2         4945f2fa8e87cb7501702ed3dce26253296eae7a8f670f...   \n",
       "3         6ff8d0f30bbe66cfec7d87fc7e22bd8b1defd47ff4aaaa...   \n",
       "4         cf2f88cb43c1713538f7dfd2aa498a2cb9ebc0c99feeac...   \n",
       "...                                                     ...   \n",
       "10431606  a532a9b9d11dcb3358677f9ff2d41d95f015331acbd632...   \n",
       "10431607  3011fe75d8739f217851a68d4c7ab40cce7dd5031f9080...   \n",
       "10431608  ea950a72ea131ef7181c7dd03f1ed77396648060c1e9cd...   \n",
       "10431609  bed8a2b601108932cbd8b3b14cde1d4919262c60b35cad...   \n",
       "10431610  2b1dd7624847cfe832fb6aaba59834f34008ed2820bca3...   \n",
       "\n",
       "          server_timestamp_epoch_ms                 time  \n",
       "0                     1552423391039  2019-03-12 20:43:11  \n",
       "1                     1552424389158  2019-03-12 20:59:49  \n",
       "2                     1552426684381  2019-03-12 21:38:04  \n",
       "3                     1552426755233  2019-03-12 21:39:15  \n",
       "4                     1552426869735  2019-03-12 21:41:09  \n",
       "...                             ...                  ...  \n",
       "10431606              1550718210565  2019-02-21 03:03:30  \n",
       "10431607              1550718249795  2019-02-21 03:04:09  \n",
       "10431608              1550718557956  2019-02-21 03:09:17  \n",
       "10431609              1550718613724  2019-02-21 03:10:13  \n",
       "10431610              1550718642814  2019-02-21 03:10:42  \n",
       "\n",
       "[10431611 rows x 5 columns]"
      ]
     },
     "execution_count": 7,
     "metadata": {},
     "output_type": "execute_result"
    }
   ],
   "source": [
    "main_df"
   ]
  },
  {
   "cell_type": "code",
   "execution_count": 8,
   "id": "144b5d26",
   "metadata": {},
   "outputs": [],
   "source": [
    "sample_df = main_df"
   ]
  },
  {
   "cell_type": "code",
   "execution_count": 10,
   "id": "9aeebaf1",
   "metadata": {},
   "outputs": [
    {
     "data": {
      "text/plain": [
       "3280584"
      ]
     },
     "execution_count": 10,
     "metadata": {},
     "output_type": "execute_result"
    }
   ],
   "source": [
    "# check the number of unique sessions \n",
    "sessions_list = sample_df[\"SessionId\"].unique().tolist()\n",
    "len(sessions_list)\n"
   ]
  },
  {
   "cell_type": "code",
   "execution_count": 11,
   "id": "d056bbd7",
   "metadata": {},
   "outputs": [
    {
     "data": {
      "text/plain": [
       "SessionId                     3280584\n",
       "product_action                      4\n",
       "product_sku_hash                57483\n",
       "server_timestamp_epoch_ms    10397354\n",
       "time                          4725977\n",
       "dtype: int64"
      ]
     },
     "execution_count": 11,
     "metadata": {},
     "output_type": "execute_result"
    }
   ],
   "source": [
    "main_df.nunique()"
   ]
  },
  {
   "cell_type": "code",
   "execution_count": 12,
   "id": "33bac176",
   "metadata": {},
   "outputs": [],
   "source": [
    "import random"
   ]
  },
  {
   "cell_type": "code",
   "execution_count": 13,
   "id": "e830e80c",
   "metadata": {},
   "outputs": [],
   "source": [
    "#get a random sample of the dataset \n",
    "# 50% of the original maybe \n",
    "\n",
    "sample1 = random.sample(sessions_list, round(0.5*len(sessions_list)))"
   ]
  },
  {
   "cell_type": "code",
   "execution_count": 14,
   "id": "38f24af6",
   "metadata": {},
   "outputs": [
    {
     "data": {
      "text/plain": [
       "1640292"
      ]
     },
     "execution_count": 14,
     "metadata": {},
     "output_type": "execute_result"
    }
   ],
   "source": [
    "len(sample1)"
   ]
  },
  {
   "cell_type": "code",
   "execution_count": 16,
   "id": "b7d52a69",
   "metadata": {},
   "outputs": [],
   "source": [
    "# Get \n",
    "sample_train_df = sample_df[sample_df['SessionId'].isin(sample1)]"
   ]
  },
  {
   "cell_type": "code",
   "execution_count": 17,
   "id": "e75c2415",
   "metadata": {},
   "outputs": [],
   "source": [
    "sample_train_df = sample_train_df.reset_index(drop=True)"
   ]
  },
  {
   "cell_type": "code",
   "execution_count": 18,
   "id": "fa5900a7",
   "metadata": {},
   "outputs": [
    {
     "data": {
      "text/html": [
       "<div>\n",
       "<style scoped>\n",
       "    .dataframe tbody tr th:only-of-type {\n",
       "        vertical-align: middle;\n",
       "    }\n",
       "\n",
       "    .dataframe tbody tr th {\n",
       "        vertical-align: top;\n",
       "    }\n",
       "\n",
       "    .dataframe thead th {\n",
       "        text-align: right;\n",
       "    }\n",
       "</style>\n",
       "<table border=\"1\" class=\"dataframe\">\n",
       "  <thead>\n",
       "    <tr style=\"text-align: right;\">\n",
       "      <th></th>\n",
       "      <th>SessionId</th>\n",
       "      <th>product_action</th>\n",
       "      <th>product_sku_hash</th>\n",
       "      <th>server_timestamp_epoch_ms</th>\n",
       "      <th>time</th>\n",
       "    </tr>\n",
       "  </thead>\n",
       "  <tbody>\n",
       "    <tr>\n",
       "      <th>0</th>\n",
       "      <td>1</td>\n",
       "      <td>detail</td>\n",
       "      <td>4d45479446a63680c0a03c1f4a31b9e9a6cba5a9dface8...</td>\n",
       "      <td>1550148170683</td>\n",
       "      <td>2019-02-14 12:42:50</td>\n",
       "    </tr>\n",
       "    <tr>\n",
       "      <th>1</th>\n",
       "      <td>1</td>\n",
       "      <td>detail</td>\n",
       "      <td>84ab2546942afe5b4c02f1b594e66251d0080da319e957...</td>\n",
       "      <td>1550148176362</td>\n",
       "      <td>2019-02-14 12:42:56</td>\n",
       "    </tr>\n",
       "    <tr>\n",
       "      <th>2</th>\n",
       "      <td>1</td>\n",
       "      <td>detail</td>\n",
       "      <td>f0999c89e453bad5ee6900df54d6c04ea04eedd7082adb...</td>\n",
       "      <td>1550148180394</td>\n",
       "      <td>2019-02-14 12:43:00</td>\n",
       "    </tr>\n",
       "    <tr>\n",
       "      <th>3</th>\n",
       "      <td>1</td>\n",
       "      <td>detail</td>\n",
       "      <td>c1b20251888221d47da74a5d8cdfb78be942eb51d35371...</td>\n",
       "      <td>1550148228570</td>\n",
       "      <td>2019-02-14 12:43:48</td>\n",
       "    </tr>\n",
       "    <tr>\n",
       "      <th>4</th>\n",
       "      <td>1</td>\n",
       "      <td>detail</td>\n",
       "      <td>e3281e3a9ec7ebb3c5483601abb856bc0ccf08dfd74da4...</td>\n",
       "      <td>1550148332921</td>\n",
       "      <td>2019-02-14 12:45:32</td>\n",
       "    </tr>\n",
       "    <tr>\n",
       "      <th>...</th>\n",
       "      <td>...</td>\n",
       "      <td>...</td>\n",
       "      <td>...</td>\n",
       "      <td>...</td>\n",
       "      <td>...</td>\n",
       "    </tr>\n",
       "    <tr>\n",
       "      <th>5215537</th>\n",
       "      <td>3280580</td>\n",
       "      <td>detail</td>\n",
       "      <td>45b304cd266d33857dc4387933feb38380f7cbd0dd2dc6...</td>\n",
       "      <td>1553984562456</td>\n",
       "      <td>2019-03-30 22:22:42</td>\n",
       "    </tr>\n",
       "    <tr>\n",
       "      <th>5215538</th>\n",
       "      <td>3280580</td>\n",
       "      <td>detail</td>\n",
       "      <td>a94a0a26b38fd8c7044be87fea51cf500b9fe61a0d3dea...</td>\n",
       "      <td>1553984613425</td>\n",
       "      <td>2019-03-30 22:23:33</td>\n",
       "    </tr>\n",
       "    <tr>\n",
       "      <th>5215539</th>\n",
       "      <td>3280580</td>\n",
       "      <td>detail</td>\n",
       "      <td>08657660c499dd08cc37b1a98d88d83b485c494990dd97...</td>\n",
       "      <td>1553984626977</td>\n",
       "      <td>2019-03-30 22:23:46</td>\n",
       "    </tr>\n",
       "    <tr>\n",
       "      <th>5215540</th>\n",
       "      <td>3280580</td>\n",
       "      <td>detail</td>\n",
       "      <td>3c4926b7c61b4d232dc010cd6ccbd280e63ebbf543ac72...</td>\n",
       "      <td>1553984784419</td>\n",
       "      <td>2019-03-30 22:26:24</td>\n",
       "    </tr>\n",
       "    <tr>\n",
       "      <th>5215541</th>\n",
       "      <td>3280580</td>\n",
       "      <td>detail</td>\n",
       "      <td>08657660c499dd08cc37b1a98d88d83b485c494990dd97...</td>\n",
       "      <td>1553985620630</td>\n",
       "      <td>2019-03-30 22:40:20</td>\n",
       "    </tr>\n",
       "  </tbody>\n",
       "</table>\n",
       "<p>5215542 rows × 5 columns</p>\n",
       "</div>"
      ],
      "text/plain": [
       "         SessionId product_action  \\\n",
       "0                1         detail   \n",
       "1                1         detail   \n",
       "2                1         detail   \n",
       "3                1         detail   \n",
       "4                1         detail   \n",
       "...            ...            ...   \n",
       "5215537    3280580         detail   \n",
       "5215538    3280580         detail   \n",
       "5215539    3280580         detail   \n",
       "5215540    3280580         detail   \n",
       "5215541    3280580         detail   \n",
       "\n",
       "                                          product_sku_hash  \\\n",
       "0        4d45479446a63680c0a03c1f4a31b9e9a6cba5a9dface8...   \n",
       "1        84ab2546942afe5b4c02f1b594e66251d0080da319e957...   \n",
       "2        f0999c89e453bad5ee6900df54d6c04ea04eedd7082adb...   \n",
       "3        c1b20251888221d47da74a5d8cdfb78be942eb51d35371...   \n",
       "4        e3281e3a9ec7ebb3c5483601abb856bc0ccf08dfd74da4...   \n",
       "...                                                    ...   \n",
       "5215537  45b304cd266d33857dc4387933feb38380f7cbd0dd2dc6...   \n",
       "5215538  a94a0a26b38fd8c7044be87fea51cf500b9fe61a0d3dea...   \n",
       "5215539  08657660c499dd08cc37b1a98d88d83b485c494990dd97...   \n",
       "5215540  3c4926b7c61b4d232dc010cd6ccbd280e63ebbf543ac72...   \n",
       "5215541  08657660c499dd08cc37b1a98d88d83b485c494990dd97...   \n",
       "\n",
       "         server_timestamp_epoch_ms                 time  \n",
       "0                    1550148170683  2019-02-14 12:42:50  \n",
       "1                    1550148176362  2019-02-14 12:42:56  \n",
       "2                    1550148180394  2019-02-14 12:43:00  \n",
       "3                    1550148228570  2019-02-14 12:43:48  \n",
       "4                    1550148332921  2019-02-14 12:45:32  \n",
       "...                            ...                  ...  \n",
       "5215537              1553984562456  2019-03-30 22:22:42  \n",
       "5215538              1553984613425  2019-03-30 22:23:33  \n",
       "5215539              1553984626977  2019-03-30 22:23:46  \n",
       "5215540              1553984784419  2019-03-30 22:26:24  \n",
       "5215541              1553985620630  2019-03-30 22:40:20  \n",
       "\n",
       "[5215542 rows x 5 columns]"
      ]
     },
     "execution_count": 18,
     "metadata": {},
     "output_type": "execute_result"
    }
   ],
   "source": [
    "sample_train_df"
   ]
  },
  {
   "cell_type": "code",
   "execution_count": 19,
   "id": "7443188c",
   "metadata": {},
   "outputs": [
    {
     "name": "stdout",
     "output_type": "stream",
     "text": [
      "<class 'pandas.core.frame.DataFrame'>\n",
      "RangeIndex: 5215542 entries, 0 to 5215541\n",
      "Data columns (total 5 columns):\n",
      " #   Column                     Dtype \n",
      "---  ------                     ----- \n",
      " 0   SessionId                  int64 \n",
      " 1   product_action             object\n",
      " 2   product_sku_hash           object\n",
      " 3   server_timestamp_epoch_ms  int64 \n",
      " 4   time                       object\n",
      "dtypes: int64(2), object(3)\n",
      "memory usage: 199.0+ MB\n"
     ]
    }
   ],
   "source": [
    "sample_train_df.info()"
   ]
  },
  {
   "cell_type": "code",
   "execution_count": 22,
   "id": "28636bb3",
   "metadata": {},
   "outputs": [
    {
     "name": "stdout",
     "output_type": "stream",
     "text": [
      "1640292\n"
     ]
    }
   ],
   "source": [
    "print(round(0.5*len(sessions_list)))"
   ]
  },
  {
   "cell_type": "code",
   "execution_count": 21,
   "id": "ae88b490",
   "metadata": {},
   "outputs": [
    {
     "data": {
      "text/plain": [
       "1640292"
      ]
     },
     "execution_count": 21,
     "metadata": {},
     "output_type": "execute_result"
    }
   ],
   "source": [
    "sample_train_df.SessionId.nunique()"
   ]
  },
  {
   "cell_type": "code",
   "execution_count": 23,
   "id": "5864378c",
   "metadata": {},
   "outputs": [],
   "source": [
    "sample_train_df.to_csv('Sample_browsing(half).csv', index=False)"
   ]
  },
  {
   "cell_type": "code",
   "execution_count": null,
   "id": "9dd795fe",
   "metadata": {},
   "outputs": [],
   "source": []
  }
 ],
 "metadata": {
  "kernelspec": {
   "display_name": "Python 3 (ipykernel)",
   "language": "python",
   "name": "python3"
  },
  "language_info": {
   "codemirror_mode": {
    "name": "ipython",
    "version": 3
   },
   "file_extension": ".py",
   "mimetype": "text/x-python",
   "name": "python",
   "nbconvert_exporter": "python",
   "pygments_lexer": "ipython3",
   "version": "3.9.7"
  }
 },
 "nbformat": 4,
 "nbformat_minor": 5
}
