{
 "cells": [
  {
   "cell_type": "markdown",
   "id": "cce377f6",
   "metadata": {},
   "source": [
    "# ANL488 Project - Session-based Recommendation systems "
   ]
  },
  {
   "cell_type": "markdown",
   "id": "9274265f",
   "metadata": {},
   "source": [
    "### Data Preparation for the word2vec  "
   ]
  },
  {
   "cell_type": "code",
   "execution_count": 1,
   "id": "ed1ac137",
   "metadata": {},
   "outputs": [
    {
     "data": {
      "text/plain": [
       "'\\nThe purpose of this file is to prepare the data for the word2vec model. \\nThis is general data preparation, further preprocessing will also be in the model file. \\n\\nIn this file, we basically merge the new product str column (self created) to the browsing file\\n\\n'"
      ]
     },
     "execution_count": 1,
     "metadata": {},
     "output_type": "execute_result"
    }
   ],
   "source": [
    "\"\"\"\n",
    "The purpose of this file is to prepare the data for the word2vec model. \n",
    "This is general data preparation, further preprocessing will also be in the model file. \n",
    "\n",
    "In this file, we basically merge the new product str column (self created) to the browsing file\n",
    "\n",
    "\"\"\""
   ]
  },
  {
   "cell_type": "markdown",
   "id": "396bcc49",
   "metadata": {},
   "source": [
    "### Import libraries "
   ]
  },
  {
   "cell_type": "code",
   "execution_count": 2,
   "id": "6c441086",
   "metadata": {},
   "outputs": [],
   "source": [
    "import numpy as np \n",
    "import pandas as pd\n",
    "import seaborn as sns \n",
    "import matplotlib.pyplot as plt\n",
    "%matplotlib inline"
   ]
  },
  {
   "cell_type": "code",
   "execution_count": 3,
   "id": "6c352237",
   "metadata": {},
   "outputs": [],
   "source": [
    "from tqdm import tqdm"
   ]
  },
  {
   "cell_type": "markdown",
   "id": "9374b79f",
   "metadata": {},
   "source": [
    "### Data Prep "
   ]
  },
  {
   "cell_type": "code",
   "execution_count": 4,
   "id": "65f21a54",
   "metadata": {},
   "outputs": [],
   "source": [
    "browsing_train = pd.read_csv('C:/Users/Lokesh/Desktop/Submission/1. Data Understanding/Sample_browsing(half).csv')"
   ]
  },
  {
   "cell_type": "code",
   "execution_count": 5,
   "id": "01bf8d73",
   "metadata": {},
   "outputs": [
    {
     "data": {
      "text/html": [
       "<div>\n",
       "<style scoped>\n",
       "    .dataframe tbody tr th:only-of-type {\n",
       "        vertical-align: middle;\n",
       "    }\n",
       "\n",
       "    .dataframe tbody tr th {\n",
       "        vertical-align: top;\n",
       "    }\n",
       "\n",
       "    .dataframe thead th {\n",
       "        text-align: right;\n",
       "    }\n",
       "</style>\n",
       "<table border=\"1\" class=\"dataframe\">\n",
       "  <thead>\n",
       "    <tr style=\"text-align: right;\">\n",
       "      <th></th>\n",
       "      <th>SessionId</th>\n",
       "      <th>product_action</th>\n",
       "      <th>product_sku_hash</th>\n",
       "      <th>server_timestamp_epoch_ms</th>\n",
       "      <th>time</th>\n",
       "    </tr>\n",
       "  </thead>\n",
       "  <tbody>\n",
       "    <tr>\n",
       "      <th>0</th>\n",
       "      <td>1</td>\n",
       "      <td>detail</td>\n",
       "      <td>4d45479446a63680c0a03c1f4a31b9e9a6cba5a9dface8...</td>\n",
       "      <td>1550148170683</td>\n",
       "      <td>2019-02-14 12:42:50</td>\n",
       "    </tr>\n",
       "    <tr>\n",
       "      <th>1</th>\n",
       "      <td>1</td>\n",
       "      <td>detail</td>\n",
       "      <td>84ab2546942afe5b4c02f1b594e66251d0080da319e957...</td>\n",
       "      <td>1550148176362</td>\n",
       "      <td>2019-02-14 12:42:56</td>\n",
       "    </tr>\n",
       "    <tr>\n",
       "      <th>2</th>\n",
       "      <td>1</td>\n",
       "      <td>detail</td>\n",
       "      <td>f0999c89e453bad5ee6900df54d6c04ea04eedd7082adb...</td>\n",
       "      <td>1550148180394</td>\n",
       "      <td>2019-02-14 12:43:00</td>\n",
       "    </tr>\n",
       "    <tr>\n",
       "      <th>3</th>\n",
       "      <td>1</td>\n",
       "      <td>detail</td>\n",
       "      <td>c1b20251888221d47da74a5d8cdfb78be942eb51d35371...</td>\n",
       "      <td>1550148228570</td>\n",
       "      <td>2019-02-14 12:43:48</td>\n",
       "    </tr>\n",
       "    <tr>\n",
       "      <th>4</th>\n",
       "      <td>1</td>\n",
       "      <td>detail</td>\n",
       "      <td>e3281e3a9ec7ebb3c5483601abb856bc0ccf08dfd74da4...</td>\n",
       "      <td>1550148332921</td>\n",
       "      <td>2019-02-14 12:45:32</td>\n",
       "    </tr>\n",
       "  </tbody>\n",
       "</table>\n",
       "</div>"
      ],
      "text/plain": [
       "   SessionId product_action  \\\n",
       "0          1         detail   \n",
       "1          1         detail   \n",
       "2          1         detail   \n",
       "3          1         detail   \n",
       "4          1         detail   \n",
       "\n",
       "                                    product_sku_hash  \\\n",
       "0  4d45479446a63680c0a03c1f4a31b9e9a6cba5a9dface8...   \n",
       "1  84ab2546942afe5b4c02f1b594e66251d0080da319e957...   \n",
       "2  f0999c89e453bad5ee6900df54d6c04ea04eedd7082adb...   \n",
       "3  c1b20251888221d47da74a5d8cdfb78be942eb51d35371...   \n",
       "4  e3281e3a9ec7ebb3c5483601abb856bc0ccf08dfd74da4...   \n",
       "\n",
       "   server_timestamp_epoch_ms                 time  \n",
       "0              1550148170683  2019-02-14 12:42:50  \n",
       "1              1550148176362  2019-02-14 12:42:56  \n",
       "2              1550148180394  2019-02-14 12:43:00  \n",
       "3              1550148228570  2019-02-14 12:43:48  \n",
       "4              1550148332921  2019-02-14 12:45:32  "
      ]
     },
     "execution_count": 5,
     "metadata": {},
     "output_type": "execute_result"
    }
   ],
   "source": [
    "browsing_train.head()"
   ]
  },
  {
   "cell_type": "code",
   "execution_count": 6,
   "id": "95ee2394",
   "metadata": {},
   "outputs": [
    {
     "name": "stdout",
     "output_type": "stream",
     "text": [
      "<class 'pandas.core.frame.DataFrame'>\n",
      "RangeIndex: 5215542 entries, 0 to 5215541\n",
      "Data columns (total 5 columns):\n",
      " #   Column                     Dtype \n",
      "---  ------                     ----- \n",
      " 0   SessionId                  int64 \n",
      " 1   product_action             object\n",
      " 2   product_sku_hash           object\n",
      " 3   server_timestamp_epoch_ms  int64 \n",
      " 4   time                       object\n",
      "dtypes: int64(2), object(3)\n",
      "memory usage: 199.0+ MB\n"
     ]
    }
   ],
   "source": [
    "browsing_train.info()"
   ]
  },
  {
   "cell_type": "code",
   "execution_count": 7,
   "id": "dd2f1c9b",
   "metadata": {},
   "outputs": [
    {
     "name": "stdout",
     "output_type": "stream",
     "text": [
      "SessionId                    1640292\n",
      "product_action                     4\n",
      "product_sku_hash               46297\n",
      "server_timestamp_epoch_ms    5201122\n",
      "time                         3312386\n",
      "dtype: int64\n"
     ]
    }
   ],
   "source": [
    "print(browsing_train.nunique())"
   ]
  },
  {
   "cell_type": "code",
   "execution_count": 8,
   "id": "b2a41700",
   "metadata": {},
   "outputs": [],
   "source": [
    "sku_train = pd.read_csv('new_product_sku.csv')"
   ]
  },
  {
   "cell_type": "code",
   "execution_count": 9,
   "id": "f669d546",
   "metadata": {},
   "outputs": [
    {
     "data": {
      "text/html": [
       "<div>\n",
       "<style scoped>\n",
       "    .dataframe tbody tr th:only-of-type {\n",
       "        vertical-align: middle;\n",
       "    }\n",
       "\n",
       "    .dataframe tbody tr th {\n",
       "        vertical-align: top;\n",
       "    }\n",
       "\n",
       "    .dataframe thead th {\n",
       "        text-align: right;\n",
       "    }\n",
       "</style>\n",
       "<table border=\"1\" class=\"dataframe\">\n",
       "  <thead>\n",
       "    <tr style=\"text-align: right;\">\n",
       "      <th></th>\n",
       "      <th>product_sku_hash</th>\n",
       "      <th>description_vector</th>\n",
       "      <th>category_hash</th>\n",
       "      <th>image_vector</th>\n",
       "      <th>price_bucket</th>\n",
       "      <th>product_sku_str</th>\n",
       "    </tr>\n",
       "  </thead>\n",
       "  <tbody>\n",
       "    <tr>\n",
       "      <th>0</th>\n",
       "      <td>26ce7b47f4c46e4087e83e54d2f7ddc7ea57862fed2e2a...</td>\n",
       "      <td>NaN</td>\n",
       "      <td>NaN</td>\n",
       "      <td>NaN</td>\n",
       "      <td>NaN</td>\n",
       "      <td>A12345z</td>\n",
       "    </tr>\n",
       "    <tr>\n",
       "      <th>1</th>\n",
       "      <td>6383992be772b204a9ab75f86c86f5583d1bdd1222952d...</td>\n",
       "      <td>NaN</td>\n",
       "      <td>NaN</td>\n",
       "      <td>NaN</td>\n",
       "      <td>NaN</td>\n",
       "      <td>B12346x</td>\n",
       "    </tr>\n",
       "    <tr>\n",
       "      <th>2</th>\n",
       "      <td>a2c3e2430c6ef9770b903ad08fa067a6b2b9db28f06e1b...</td>\n",
       "      <td>[0.27629122138023376, -0.15763211250305176, 0....</td>\n",
       "      <td>06fa312761d4b39e2f649781514ac69a4c1505c221fc46...</td>\n",
       "      <td>[340.3592564184389, -220.19025864725685, 154.0...</td>\n",
       "      <td>7.0</td>\n",
       "      <td>C12347c</td>\n",
       "    </tr>\n",
       "    <tr>\n",
       "      <th>3</th>\n",
       "      <td>1028ef615e425c328e7b95010dfb1fb93cf63749a1bc80...</td>\n",
       "      <td>[0.4058118760585785, -0.03595402091741562, 0.2...</td>\n",
       "      <td>115a6a7017ee55752b8487c77dfde92b0d501d10a2e69c...</td>\n",
       "      <td>[180.3463662921092, 222.702322343354, -8.88703...</td>\n",
       "      <td>8.0</td>\n",
       "      <td>D12348v</td>\n",
       "    </tr>\n",
       "    <tr>\n",
       "      <th>4</th>\n",
       "      <td>9870c682d0d52d635501249da0eeaa118fad430b695ea1...</td>\n",
       "      <td>[-0.3206155300140381, 0.01991105079650879, 0.0...</td>\n",
       "      <td>0665a81d19c89281cc00e7f7d779ded2ed42c933838602...</td>\n",
       "      <td>[-114.81079301576219, 84.55770104232334, 85.51...</td>\n",
       "      <td>2.0</td>\n",
       "      <td>E12349b</td>\n",
       "    </tr>\n",
       "  </tbody>\n",
       "</table>\n",
       "</div>"
      ],
      "text/plain": [
       "                                    product_sku_hash  \\\n",
       "0  26ce7b47f4c46e4087e83e54d2f7ddc7ea57862fed2e2a...   \n",
       "1  6383992be772b204a9ab75f86c86f5583d1bdd1222952d...   \n",
       "2  a2c3e2430c6ef9770b903ad08fa067a6b2b9db28f06e1b...   \n",
       "3  1028ef615e425c328e7b95010dfb1fb93cf63749a1bc80...   \n",
       "4  9870c682d0d52d635501249da0eeaa118fad430b695ea1...   \n",
       "\n",
       "                                  description_vector  \\\n",
       "0                                                NaN   \n",
       "1                                                NaN   \n",
       "2  [0.27629122138023376, -0.15763211250305176, 0....   \n",
       "3  [0.4058118760585785, -0.03595402091741562, 0.2...   \n",
       "4  [-0.3206155300140381, 0.01991105079650879, 0.0...   \n",
       "\n",
       "                                       category_hash  \\\n",
       "0                                                NaN   \n",
       "1                                                NaN   \n",
       "2  06fa312761d4b39e2f649781514ac69a4c1505c221fc46...   \n",
       "3  115a6a7017ee55752b8487c77dfde92b0d501d10a2e69c...   \n",
       "4  0665a81d19c89281cc00e7f7d779ded2ed42c933838602...   \n",
       "\n",
       "                                        image_vector  price_bucket  \\\n",
       "0                                                NaN           NaN   \n",
       "1                                                NaN           NaN   \n",
       "2  [340.3592564184389, -220.19025864725685, 154.0...           7.0   \n",
       "3  [180.3463662921092, 222.702322343354, -8.88703...           8.0   \n",
       "4  [-114.81079301576219, 84.55770104232334, 85.51...           2.0   \n",
       "\n",
       "  product_sku_str  \n",
       "0         A12345z  \n",
       "1         B12346x  \n",
       "2         C12347c  \n",
       "3         D12348v  \n",
       "4         E12349b  "
      ]
     },
     "execution_count": 9,
     "metadata": {},
     "output_type": "execute_result"
    }
   ],
   "source": [
    "sku_train.head()"
   ]
  },
  {
   "cell_type": "code",
   "execution_count": 10,
   "id": "4d8fe4a8",
   "metadata": {},
   "outputs": [
    {
     "name": "stdout",
     "output_type": "stream",
     "text": [
      "Index(['product_sku_hash', 'description_vector', 'category_hash',\n",
      "       'image_vector', 'price_bucket', 'product_sku_str'],\n",
      "      dtype='object')\n",
      "---------------\n",
      "product_sku_hash      66386\n",
      "description_vector    24536\n",
      "category_hash           174\n",
      "image_vector          27916\n",
      "price_bucket             10\n",
      "product_sku_str       66386\n",
      "dtype: int64\n"
     ]
    }
   ],
   "source": [
    "print(sku_train.columns)\n",
    "print(\"---------------\")\n",
    "print(sku_train.nunique())"
   ]
  },
  {
   "cell_type": "code",
   "execution_count": 11,
   "id": "3cabfdfe",
   "metadata": {},
   "outputs": [],
   "source": [
    "new_sku= sku_train[['product_sku_hash', 'product_sku_str']]"
   ]
  },
  {
   "cell_type": "code",
   "execution_count": 12,
   "id": "aeeaadc6",
   "metadata": {},
   "outputs": [
    {
     "data": {
      "text/plain": [
       "product_sku_hash    0\n",
       "product_sku_str     0\n",
       "dtype: int64"
      ]
     },
     "execution_count": 12,
     "metadata": {},
     "output_type": "execute_result"
    }
   ],
   "source": [
    "new_sku.isnull().sum()"
   ]
  },
  {
   "cell_type": "code",
   "execution_count": 13,
   "id": "c263a95e",
   "metadata": {},
   "outputs": [],
   "source": [
    "new_browsing_data1 = pd.merge(browsing_train, new_sku, on='product_sku_hash', how='inner')"
   ]
  },
  {
   "cell_type": "code",
   "execution_count": 14,
   "id": "a91ed43c",
   "metadata": {},
   "outputs": [
    {
     "name": "stdout",
     "output_type": "stream",
     "text": [
      "Index(['SessionId', 'product_action', 'product_sku_hash',\n",
      "       'server_timestamp_epoch_ms', 'time', 'product_sku_str'],\n",
      "      dtype='object')\n",
      "------------------------\n",
      "SessionId                    1640292\n",
      "product_action                     4\n",
      "product_sku_hash               46297\n",
      "server_timestamp_epoch_ms    5201122\n",
      "time                         3312386\n",
      "product_sku_str                46297\n",
      "dtype: int64\n"
     ]
    }
   ],
   "source": [
    "print(new_browsing_data1.columns)\n",
    "print(\"------------------------\")\n",
    "print(new_browsing_data1.nunique())"
   ]
  },
  {
   "cell_type": "code",
   "execution_count": 15,
   "id": "b8d41613",
   "metadata": {},
   "outputs": [
    {
     "data": {
      "text/html": [
       "<div>\n",
       "<style scoped>\n",
       "    .dataframe tbody tr th:only-of-type {\n",
       "        vertical-align: middle;\n",
       "    }\n",
       "\n",
       "    .dataframe tbody tr th {\n",
       "        vertical-align: top;\n",
       "    }\n",
       "\n",
       "    .dataframe thead th {\n",
       "        text-align: right;\n",
       "    }\n",
       "</style>\n",
       "<table border=\"1\" class=\"dataframe\">\n",
       "  <thead>\n",
       "    <tr style=\"text-align: right;\">\n",
       "      <th></th>\n",
       "      <th>SessionId</th>\n",
       "      <th>product_action</th>\n",
       "      <th>product_sku_hash</th>\n",
       "      <th>server_timestamp_epoch_ms</th>\n",
       "      <th>time</th>\n",
       "      <th>product_sku_str</th>\n",
       "    </tr>\n",
       "  </thead>\n",
       "  <tbody>\n",
       "    <tr>\n",
       "      <th>0</th>\n",
       "      <td>1</td>\n",
       "      <td>detail</td>\n",
       "      <td>4d45479446a63680c0a03c1f4a31b9e9a6cba5a9dface8...</td>\n",
       "      <td>1550148170683</td>\n",
       "      <td>2019-02-14 12:42:50</td>\n",
       "      <td>K14951m</td>\n",
       "    </tr>\n",
       "    <tr>\n",
       "      <th>1</th>\n",
       "      <td>6106</td>\n",
       "      <td>detail</td>\n",
       "      <td>4d45479446a63680c0a03c1f4a31b9e9a6cba5a9dface8...</td>\n",
       "      <td>1553213249944</td>\n",
       "      <td>2019-03-22 00:07:29</td>\n",
       "      <td>K14951m</td>\n",
       "    </tr>\n",
       "    <tr>\n",
       "      <th>2</th>\n",
       "      <td>7980</td>\n",
       "      <td>detail</td>\n",
       "      <td>4d45479446a63680c0a03c1f4a31b9e9a6cba5a9dface8...</td>\n",
       "      <td>1555137171027</td>\n",
       "      <td>2019-04-13 06:32:51</td>\n",
       "      <td>K14951m</td>\n",
       "    </tr>\n",
       "    <tr>\n",
       "      <th>3</th>\n",
       "      <td>55822</td>\n",
       "      <td>detail</td>\n",
       "      <td>4d45479446a63680c0a03c1f4a31b9e9a6cba5a9dface8...</td>\n",
       "      <td>1549001231246</td>\n",
       "      <td>2019-02-01 06:07:11</td>\n",
       "      <td>K14951m</td>\n",
       "    </tr>\n",
       "    <tr>\n",
       "      <th>4</th>\n",
       "      <td>55822</td>\n",
       "      <td>detail</td>\n",
       "      <td>4d45479446a63680c0a03c1f4a31b9e9a6cba5a9dface8...</td>\n",
       "      <td>1549001276938</td>\n",
       "      <td>2019-02-01 06:07:56</td>\n",
       "      <td>K14951m</td>\n",
       "    </tr>\n",
       "    <tr>\n",
       "      <th>...</th>\n",
       "      <td>...</td>\n",
       "      <td>...</td>\n",
       "      <td>...</td>\n",
       "      <td>...</td>\n",
       "      <td>...</td>\n",
       "      <td>...</td>\n",
       "    </tr>\n",
       "    <tr>\n",
       "      <th>5215537</th>\n",
       "      <td>3277445</td>\n",
       "      <td>remove</td>\n",
       "      <td>b457fc18898e76ee143f307e50f382e5fc4060b6c4c56c...</td>\n",
       "      <td>1548942570625</td>\n",
       "      <td>2019-01-31 13:49:30</td>\n",
       "      <td>K64022a</td>\n",
       "    </tr>\n",
       "    <tr>\n",
       "      <th>5215538</th>\n",
       "      <td>3278868</td>\n",
       "      <td>remove</td>\n",
       "      <td>be176bf61b14b2bb1063e45294e2261bf72674238cd27c...</td>\n",
       "      <td>1550539028151</td>\n",
       "      <td>2019-02-19 01:17:08</td>\n",
       "      <td>K65683f</td>\n",
       "    </tr>\n",
       "    <tr>\n",
       "      <th>5215539</th>\n",
       "      <td>3278879</td>\n",
       "      <td>remove</td>\n",
       "      <td>92f2cdbf4fa866fb24320fd064879d094cd5dd4f048bb5...</td>\n",
       "      <td>1551890014780</td>\n",
       "      <td>2019-03-06 16:33:34</td>\n",
       "      <td>H77461f</td>\n",
       "    </tr>\n",
       "    <tr>\n",
       "      <th>5215540</th>\n",
       "      <td>3279286</td>\n",
       "      <td>remove</td>\n",
       "      <td>942170acab0d45f537c534d98d5a5415fb596dd3be9a7f...</td>\n",
       "      <td>1551528342582</td>\n",
       "      <td>2019-03-02 12:05:42</td>\n",
       "      <td>C76708d</td>\n",
       "    </tr>\n",
       "    <tr>\n",
       "      <th>5215541</th>\n",
       "      <td>3280052</td>\n",
       "      <td>remove</td>\n",
       "      <td>9dca095e993446f97323b15626a9b9ff93afb3339bbddc...</td>\n",
       "      <td>1552054810105</td>\n",
       "      <td>2019-03-08 14:20:10</td>\n",
       "      <td>C27901k</td>\n",
       "    </tr>\n",
       "  </tbody>\n",
       "</table>\n",
       "<p>5215542 rows × 6 columns</p>\n",
       "</div>"
      ],
      "text/plain": [
       "         SessionId product_action  \\\n",
       "0                1         detail   \n",
       "1             6106         detail   \n",
       "2             7980         detail   \n",
       "3            55822         detail   \n",
       "4            55822         detail   \n",
       "...            ...            ...   \n",
       "5215537    3277445         remove   \n",
       "5215538    3278868         remove   \n",
       "5215539    3278879         remove   \n",
       "5215540    3279286         remove   \n",
       "5215541    3280052         remove   \n",
       "\n",
       "                                          product_sku_hash  \\\n",
       "0        4d45479446a63680c0a03c1f4a31b9e9a6cba5a9dface8...   \n",
       "1        4d45479446a63680c0a03c1f4a31b9e9a6cba5a9dface8...   \n",
       "2        4d45479446a63680c0a03c1f4a31b9e9a6cba5a9dface8...   \n",
       "3        4d45479446a63680c0a03c1f4a31b9e9a6cba5a9dface8...   \n",
       "4        4d45479446a63680c0a03c1f4a31b9e9a6cba5a9dface8...   \n",
       "...                                                    ...   \n",
       "5215537  b457fc18898e76ee143f307e50f382e5fc4060b6c4c56c...   \n",
       "5215538  be176bf61b14b2bb1063e45294e2261bf72674238cd27c...   \n",
       "5215539  92f2cdbf4fa866fb24320fd064879d094cd5dd4f048bb5...   \n",
       "5215540  942170acab0d45f537c534d98d5a5415fb596dd3be9a7f...   \n",
       "5215541  9dca095e993446f97323b15626a9b9ff93afb3339bbddc...   \n",
       "\n",
       "         server_timestamp_epoch_ms                 time product_sku_str  \n",
       "0                    1550148170683  2019-02-14 12:42:50         K14951m  \n",
       "1                    1553213249944  2019-03-22 00:07:29         K14951m  \n",
       "2                    1555137171027  2019-04-13 06:32:51         K14951m  \n",
       "3                    1549001231246  2019-02-01 06:07:11         K14951m  \n",
       "4                    1549001276938  2019-02-01 06:07:56         K14951m  \n",
       "...                            ...                  ...             ...  \n",
       "5215537              1548942570625  2019-01-31 13:49:30         K64022a  \n",
       "5215538              1550539028151  2019-02-19 01:17:08         K65683f  \n",
       "5215539              1551890014780  2019-03-06 16:33:34         H77461f  \n",
       "5215540              1551528342582  2019-03-02 12:05:42         C76708d  \n",
       "5215541              1552054810105  2019-03-08 14:20:10         C27901k  \n",
       "\n",
       "[5215542 rows x 6 columns]"
      ]
     },
     "execution_count": 15,
     "metadata": {},
     "output_type": "execute_result"
    }
   ],
   "source": [
    "new_browsing_data1"
   ]
  },
  {
   "cell_type": "code",
   "execution_count": 16,
   "id": "5920db0a",
   "metadata": {},
   "outputs": [
    {
     "data": {
      "text/plain": [
       "Index(['SessionId', 'product_action', 'product_sku_hash',\n",
       "       'server_timestamp_epoch_ms', 'time', 'product_sku_str'],\n",
       "      dtype='object')"
      ]
     },
     "execution_count": 16,
     "metadata": {},
     "output_type": "execute_result"
    }
   ],
   "source": [
    "new_browsing_data1.columns"
   ]
  },
  {
   "cell_type": "code",
   "execution_count": 17,
   "id": "c50cf640",
   "metadata": {},
   "outputs": [],
   "source": [
    "new_browsing = new_browsing_data1.sort_values(['SessionId', 'server_timestamp_epoch_ms'])"
   ]
  },
  {
   "cell_type": "code",
   "execution_count": 19,
   "id": "36d2de86",
   "metadata": {},
   "outputs": [
    {
     "data": {
      "text/html": [
       "<div>\n",
       "<style scoped>\n",
       "    .dataframe tbody tr th:only-of-type {\n",
       "        vertical-align: middle;\n",
       "    }\n",
       "\n",
       "    .dataframe tbody tr th {\n",
       "        vertical-align: top;\n",
       "    }\n",
       "\n",
       "    .dataframe thead th {\n",
       "        text-align: right;\n",
       "    }\n",
       "</style>\n",
       "<table border=\"1\" class=\"dataframe\">\n",
       "  <thead>\n",
       "    <tr style=\"text-align: right;\">\n",
       "      <th></th>\n",
       "      <th>SessionId</th>\n",
       "      <th>product_action</th>\n",
       "      <th>product_sku_hash</th>\n",
       "      <th>server_timestamp_epoch_ms</th>\n",
       "      <th>time</th>\n",
       "      <th>product_sku_str</th>\n",
       "    </tr>\n",
       "  </thead>\n",
       "  <tbody>\n",
       "    <tr>\n",
       "      <th>0</th>\n",
       "      <td>1</td>\n",
       "      <td>detail</td>\n",
       "      <td>4d45479446a63680c0a03c1f4a31b9e9a6cba5a9dface8...</td>\n",
       "      <td>1550148170683</td>\n",
       "      <td>2019-02-14 12:42:50</td>\n",
       "      <td>K14951m</td>\n",
       "    </tr>\n",
       "    <tr>\n",
       "      <th>1</th>\n",
       "      <td>1</td>\n",
       "      <td>detail</td>\n",
       "      <td>84ab2546942afe5b4c02f1b594e66251d0080da319e957...</td>\n",
       "      <td>1550148176362</td>\n",
       "      <td>2019-02-14 12:42:56</td>\n",
       "      <td>F49464o</td>\n",
       "    </tr>\n",
       "    <tr>\n",
       "      <th>2</th>\n",
       "      <td>1</td>\n",
       "      <td>detail</td>\n",
       "      <td>f0999c89e453bad5ee6900df54d6c04ea04eedd7082adb...</td>\n",
       "      <td>1550148180394</td>\n",
       "      <td>2019-02-14 12:43:00</td>\n",
       "      <td>A61636t</td>\n",
       "    </tr>\n",
       "    <tr>\n",
       "      <th>3</th>\n",
       "      <td>1</td>\n",
       "      <td>detail</td>\n",
       "      <td>c1b20251888221d47da74a5d8cdfb78be942eb51d35371...</td>\n",
       "      <td>1550148228570</td>\n",
       "      <td>2019-02-14 12:43:48</td>\n",
       "      <td>C19959r</td>\n",
       "    </tr>\n",
       "    <tr>\n",
       "      <th>4</th>\n",
       "      <td>1</td>\n",
       "      <td>detail</td>\n",
       "      <td>e3281e3a9ec7ebb3c5483601abb856bc0ccf08dfd74da4...</td>\n",
       "      <td>1550148332921</td>\n",
       "      <td>2019-02-14 12:45:32</td>\n",
       "      <td>F69330u</td>\n",
       "    </tr>\n",
       "    <tr>\n",
       "      <th>...</th>\n",
       "      <td>...</td>\n",
       "      <td>...</td>\n",
       "      <td>...</td>\n",
       "      <td>...</td>\n",
       "      <td>...</td>\n",
       "      <td>...</td>\n",
       "    </tr>\n",
       "    <tr>\n",
       "      <th>5215537</th>\n",
       "      <td>3280580</td>\n",
       "      <td>detail</td>\n",
       "      <td>45b304cd266d33857dc4387933feb38380f7cbd0dd2dc6...</td>\n",
       "      <td>1553984562456</td>\n",
       "      <td>2019-03-30 22:22:42</td>\n",
       "      <td>B58392x</td>\n",
       "    </tr>\n",
       "    <tr>\n",
       "      <th>5215538</th>\n",
       "      <td>3280580</td>\n",
       "      <td>detail</td>\n",
       "      <td>a94a0a26b38fd8c7044be87fea51cf500b9fe61a0d3dea...</td>\n",
       "      <td>1553984613425</td>\n",
       "      <td>2019-03-30 22:23:33</td>\n",
       "      <td>H34363r</td>\n",
       "    </tr>\n",
       "    <tr>\n",
       "      <th>5215539</th>\n",
       "      <td>3280580</td>\n",
       "      <td>detail</td>\n",
       "      <td>08657660c499dd08cc37b1a98d88d83b485c494990dd97...</td>\n",
       "      <td>1553984626977</td>\n",
       "      <td>2019-03-30 22:23:46</td>\n",
       "      <td>A73516u</td>\n",
       "    </tr>\n",
       "    <tr>\n",
       "      <th>5215540</th>\n",
       "      <td>3280580</td>\n",
       "      <td>detail</td>\n",
       "      <td>3c4926b7c61b4d232dc010cd6ccbd280e63ebbf543ac72...</td>\n",
       "      <td>1553984784419</td>\n",
       "      <td>2019-03-30 22:26:24</td>\n",
       "      <td>D34843k</td>\n",
       "    </tr>\n",
       "    <tr>\n",
       "      <th>5215541</th>\n",
       "      <td>3280580</td>\n",
       "      <td>detail</td>\n",
       "      <td>08657660c499dd08cc37b1a98d88d83b485c494990dd97...</td>\n",
       "      <td>1553985620630</td>\n",
       "      <td>2019-03-30 22:40:20</td>\n",
       "      <td>A73516u</td>\n",
       "    </tr>\n",
       "  </tbody>\n",
       "</table>\n",
       "<p>5215542 rows × 6 columns</p>\n",
       "</div>"
      ],
      "text/plain": [
       "         SessionId product_action  \\\n",
       "0                1         detail   \n",
       "1                1         detail   \n",
       "2                1         detail   \n",
       "3                1         detail   \n",
       "4                1         detail   \n",
       "...            ...            ...   \n",
       "5215537    3280580         detail   \n",
       "5215538    3280580         detail   \n",
       "5215539    3280580         detail   \n",
       "5215540    3280580         detail   \n",
       "5215541    3280580         detail   \n",
       "\n",
       "                                          product_sku_hash  \\\n",
       "0        4d45479446a63680c0a03c1f4a31b9e9a6cba5a9dface8...   \n",
       "1        84ab2546942afe5b4c02f1b594e66251d0080da319e957...   \n",
       "2        f0999c89e453bad5ee6900df54d6c04ea04eedd7082adb...   \n",
       "3        c1b20251888221d47da74a5d8cdfb78be942eb51d35371...   \n",
       "4        e3281e3a9ec7ebb3c5483601abb856bc0ccf08dfd74da4...   \n",
       "...                                                    ...   \n",
       "5215537  45b304cd266d33857dc4387933feb38380f7cbd0dd2dc6...   \n",
       "5215538  a94a0a26b38fd8c7044be87fea51cf500b9fe61a0d3dea...   \n",
       "5215539  08657660c499dd08cc37b1a98d88d83b485c494990dd97...   \n",
       "5215540  3c4926b7c61b4d232dc010cd6ccbd280e63ebbf543ac72...   \n",
       "5215541  08657660c499dd08cc37b1a98d88d83b485c494990dd97...   \n",
       "\n",
       "         server_timestamp_epoch_ms                 time product_sku_str  \n",
       "0                    1550148170683  2019-02-14 12:42:50         K14951m  \n",
       "1                    1550148176362  2019-02-14 12:42:56         F49464o  \n",
       "2                    1550148180394  2019-02-14 12:43:00         A61636t  \n",
       "3                    1550148228570  2019-02-14 12:43:48         C19959r  \n",
       "4                    1550148332921  2019-02-14 12:45:32         F69330u  \n",
       "...                            ...                  ...             ...  \n",
       "5215537              1553984562456  2019-03-30 22:22:42         B58392x  \n",
       "5215538              1553984613425  2019-03-30 22:23:33         H34363r  \n",
       "5215539              1553984626977  2019-03-30 22:23:46         A73516u  \n",
       "5215540              1553984784419  2019-03-30 22:26:24         D34843k  \n",
       "5215541              1553985620630  2019-03-30 22:40:20         A73516u  \n",
       "\n",
       "[5215542 rows x 6 columns]"
      ]
     },
     "execution_count": 19,
     "metadata": {},
     "output_type": "execute_result"
    }
   ],
   "source": [
    "new_browsing = new_browsing.reset_index(drop=True)\n",
    "new_browsing"
   ]
  },
  {
   "cell_type": "code",
   "execution_count": 20,
   "id": "3046eafc",
   "metadata": {},
   "outputs": [
    {
     "name": "stdout",
     "output_type": "stream",
     "text": [
      "SessionId                    1640292\n",
      "product_action                     4\n",
      "product_sku_hash               46297\n",
      "server_timestamp_epoch_ms    5201122\n",
      "time                         3312386\n",
      "product_sku_str                46297\n",
      "dtype: int64\n",
      "--------------------\n",
      "SessionId                    0\n",
      "product_action               0\n",
      "product_sku_hash             0\n",
      "server_timestamp_epoch_ms    0\n",
      "time                         0\n",
      "product_sku_str              0\n",
      "dtype: int64\n"
     ]
    }
   ],
   "source": [
    "print(new_browsing.nunique())\n",
    "print('--------------------')\n",
    "print(new_browsing.isnull().sum())"
   ]
  },
  {
   "cell_type": "code",
   "execution_count": 24,
   "id": "24774e2d",
   "metadata": {},
   "outputs": [],
   "source": [
    "#get sample\n",
    "\n",
    "get_sample = new_browsing[['SessionId', 'product_sku_hash','product_sku_str', 'server_timestamp_epoch_ms']]"
   ]
  },
  {
   "cell_type": "code",
   "execution_count": 25,
   "id": "a8a3487b",
   "metadata": {},
   "outputs": [
    {
     "data": {
      "text/html": [
       "<div>\n",
       "<style scoped>\n",
       "    .dataframe tbody tr th:only-of-type {\n",
       "        vertical-align: middle;\n",
       "    }\n",
       "\n",
       "    .dataframe tbody tr th {\n",
       "        vertical-align: top;\n",
       "    }\n",
       "\n",
       "    .dataframe thead th {\n",
       "        text-align: right;\n",
       "    }\n",
       "</style>\n",
       "<table border=\"1\" class=\"dataframe\">\n",
       "  <thead>\n",
       "    <tr style=\"text-align: right;\">\n",
       "      <th></th>\n",
       "      <th>SessionId</th>\n",
       "      <th>product_sku_hash</th>\n",
       "      <th>product_sku_str</th>\n",
       "      <th>server_timestamp_epoch_ms</th>\n",
       "    </tr>\n",
       "  </thead>\n",
       "  <tbody>\n",
       "    <tr>\n",
       "      <th>0</th>\n",
       "      <td>1</td>\n",
       "      <td>4d45479446a63680c0a03c1f4a31b9e9a6cba5a9dface8...</td>\n",
       "      <td>K14951m</td>\n",
       "      <td>1550148170683</td>\n",
       "    </tr>\n",
       "    <tr>\n",
       "      <th>1</th>\n",
       "      <td>1</td>\n",
       "      <td>84ab2546942afe5b4c02f1b594e66251d0080da319e957...</td>\n",
       "      <td>F49464o</td>\n",
       "      <td>1550148176362</td>\n",
       "    </tr>\n",
       "    <tr>\n",
       "      <th>2</th>\n",
       "      <td>1</td>\n",
       "      <td>f0999c89e453bad5ee6900df54d6c04ea04eedd7082adb...</td>\n",
       "      <td>A61636t</td>\n",
       "      <td>1550148180394</td>\n",
       "    </tr>\n",
       "    <tr>\n",
       "      <th>3</th>\n",
       "      <td>1</td>\n",
       "      <td>c1b20251888221d47da74a5d8cdfb78be942eb51d35371...</td>\n",
       "      <td>C19959r</td>\n",
       "      <td>1550148228570</td>\n",
       "    </tr>\n",
       "    <tr>\n",
       "      <th>4</th>\n",
       "      <td>1</td>\n",
       "      <td>e3281e3a9ec7ebb3c5483601abb856bc0ccf08dfd74da4...</td>\n",
       "      <td>F69330u</td>\n",
       "      <td>1550148332921</td>\n",
       "    </tr>\n",
       "    <tr>\n",
       "      <th>...</th>\n",
       "      <td>...</td>\n",
       "      <td>...</td>\n",
       "      <td>...</td>\n",
       "      <td>...</td>\n",
       "    </tr>\n",
       "    <tr>\n",
       "      <th>5215537</th>\n",
       "      <td>3280580</td>\n",
       "      <td>45b304cd266d33857dc4387933feb38380f7cbd0dd2dc6...</td>\n",
       "      <td>B58392x</td>\n",
       "      <td>1553984562456</td>\n",
       "    </tr>\n",
       "    <tr>\n",
       "      <th>5215538</th>\n",
       "      <td>3280580</td>\n",
       "      <td>a94a0a26b38fd8c7044be87fea51cf500b9fe61a0d3dea...</td>\n",
       "      <td>H34363r</td>\n",
       "      <td>1553984613425</td>\n",
       "    </tr>\n",
       "    <tr>\n",
       "      <th>5215539</th>\n",
       "      <td>3280580</td>\n",
       "      <td>08657660c499dd08cc37b1a98d88d83b485c494990dd97...</td>\n",
       "      <td>A73516u</td>\n",
       "      <td>1553984626977</td>\n",
       "    </tr>\n",
       "    <tr>\n",
       "      <th>5215540</th>\n",
       "      <td>3280580</td>\n",
       "      <td>3c4926b7c61b4d232dc010cd6ccbd280e63ebbf543ac72...</td>\n",
       "      <td>D34843k</td>\n",
       "      <td>1553984784419</td>\n",
       "    </tr>\n",
       "    <tr>\n",
       "      <th>5215541</th>\n",
       "      <td>3280580</td>\n",
       "      <td>08657660c499dd08cc37b1a98d88d83b485c494990dd97...</td>\n",
       "      <td>A73516u</td>\n",
       "      <td>1553985620630</td>\n",
       "    </tr>\n",
       "  </tbody>\n",
       "</table>\n",
       "<p>5215542 rows × 4 columns</p>\n",
       "</div>"
      ],
      "text/plain": [
       "         SessionId                                   product_sku_hash  \\\n",
       "0                1  4d45479446a63680c0a03c1f4a31b9e9a6cba5a9dface8...   \n",
       "1                1  84ab2546942afe5b4c02f1b594e66251d0080da319e957...   \n",
       "2                1  f0999c89e453bad5ee6900df54d6c04ea04eedd7082adb...   \n",
       "3                1  c1b20251888221d47da74a5d8cdfb78be942eb51d35371...   \n",
       "4                1  e3281e3a9ec7ebb3c5483601abb856bc0ccf08dfd74da4...   \n",
       "...            ...                                                ...   \n",
       "5215537    3280580  45b304cd266d33857dc4387933feb38380f7cbd0dd2dc6...   \n",
       "5215538    3280580  a94a0a26b38fd8c7044be87fea51cf500b9fe61a0d3dea...   \n",
       "5215539    3280580  08657660c499dd08cc37b1a98d88d83b485c494990dd97...   \n",
       "5215540    3280580  3c4926b7c61b4d232dc010cd6ccbd280e63ebbf543ac72...   \n",
       "5215541    3280580  08657660c499dd08cc37b1a98d88d83b485c494990dd97...   \n",
       "\n",
       "        product_sku_str  server_timestamp_epoch_ms  \n",
       "0               K14951m              1550148170683  \n",
       "1               F49464o              1550148176362  \n",
       "2               A61636t              1550148180394  \n",
       "3               C19959r              1550148228570  \n",
       "4               F69330u              1550148332921  \n",
       "...                 ...                        ...  \n",
       "5215537         B58392x              1553984562456  \n",
       "5215538         H34363r              1553984613425  \n",
       "5215539         A73516u              1553984626977  \n",
       "5215540         D34843k              1553984784419  \n",
       "5215541         A73516u              1553985620630  \n",
       "\n",
       "[5215542 rows x 4 columns]"
      ]
     },
     "execution_count": 25,
     "metadata": {},
     "output_type": "execute_result"
    }
   ],
   "source": [
    "get_sample"
   ]
  },
  {
   "cell_type": "code",
   "execution_count": 26,
   "id": "f0b08e3c",
   "metadata": {},
   "outputs": [],
   "source": [
    "get_sample.to_csv('sample_browsing_data_str_3.csv', index=False)"
   ]
  },
  {
   "cell_type": "markdown",
   "id": "c4bde3a9",
   "metadata": {},
   "source": [
    "### check"
   ]
  },
  {
   "cell_type": "code",
   "execution_count": 27,
   "id": "006892d9",
   "metadata": {},
   "outputs": [],
   "source": [
    "check = pd.read_csv('sample_browsing_data_str_3.csv')"
   ]
  },
  {
   "cell_type": "code",
   "execution_count": 28,
   "id": "a6583108",
   "metadata": {},
   "outputs": [
    {
     "data": {
      "text/html": [
       "<div>\n",
       "<style scoped>\n",
       "    .dataframe tbody tr th:only-of-type {\n",
       "        vertical-align: middle;\n",
       "    }\n",
       "\n",
       "    .dataframe tbody tr th {\n",
       "        vertical-align: top;\n",
       "    }\n",
       "\n",
       "    .dataframe thead th {\n",
       "        text-align: right;\n",
       "    }\n",
       "</style>\n",
       "<table border=\"1\" class=\"dataframe\">\n",
       "  <thead>\n",
       "    <tr style=\"text-align: right;\">\n",
       "      <th></th>\n",
       "      <th>SessionId</th>\n",
       "      <th>product_sku_hash</th>\n",
       "      <th>product_sku_str</th>\n",
       "      <th>server_timestamp_epoch_ms</th>\n",
       "    </tr>\n",
       "  </thead>\n",
       "  <tbody>\n",
       "    <tr>\n",
       "      <th>0</th>\n",
       "      <td>1</td>\n",
       "      <td>4d45479446a63680c0a03c1f4a31b9e9a6cba5a9dface8...</td>\n",
       "      <td>K14951m</td>\n",
       "      <td>1550148170683</td>\n",
       "    </tr>\n",
       "    <tr>\n",
       "      <th>1</th>\n",
       "      <td>1</td>\n",
       "      <td>84ab2546942afe5b4c02f1b594e66251d0080da319e957...</td>\n",
       "      <td>F49464o</td>\n",
       "      <td>1550148176362</td>\n",
       "    </tr>\n",
       "    <tr>\n",
       "      <th>2</th>\n",
       "      <td>1</td>\n",
       "      <td>f0999c89e453bad5ee6900df54d6c04ea04eedd7082adb...</td>\n",
       "      <td>A61636t</td>\n",
       "      <td>1550148180394</td>\n",
       "    </tr>\n",
       "    <tr>\n",
       "      <th>3</th>\n",
       "      <td>1</td>\n",
       "      <td>c1b20251888221d47da74a5d8cdfb78be942eb51d35371...</td>\n",
       "      <td>C19959r</td>\n",
       "      <td>1550148228570</td>\n",
       "    </tr>\n",
       "    <tr>\n",
       "      <th>4</th>\n",
       "      <td>1</td>\n",
       "      <td>e3281e3a9ec7ebb3c5483601abb856bc0ccf08dfd74da4...</td>\n",
       "      <td>F69330u</td>\n",
       "      <td>1550148332921</td>\n",
       "    </tr>\n",
       "    <tr>\n",
       "      <th>...</th>\n",
       "      <td>...</td>\n",
       "      <td>...</td>\n",
       "      <td>...</td>\n",
       "      <td>...</td>\n",
       "    </tr>\n",
       "    <tr>\n",
       "      <th>5215537</th>\n",
       "      <td>3280580</td>\n",
       "      <td>45b304cd266d33857dc4387933feb38380f7cbd0dd2dc6...</td>\n",
       "      <td>B58392x</td>\n",
       "      <td>1553984562456</td>\n",
       "    </tr>\n",
       "    <tr>\n",
       "      <th>5215538</th>\n",
       "      <td>3280580</td>\n",
       "      <td>a94a0a26b38fd8c7044be87fea51cf500b9fe61a0d3dea...</td>\n",
       "      <td>H34363r</td>\n",
       "      <td>1553984613425</td>\n",
       "    </tr>\n",
       "    <tr>\n",
       "      <th>5215539</th>\n",
       "      <td>3280580</td>\n",
       "      <td>08657660c499dd08cc37b1a98d88d83b485c494990dd97...</td>\n",
       "      <td>A73516u</td>\n",
       "      <td>1553984626977</td>\n",
       "    </tr>\n",
       "    <tr>\n",
       "      <th>5215540</th>\n",
       "      <td>3280580</td>\n",
       "      <td>3c4926b7c61b4d232dc010cd6ccbd280e63ebbf543ac72...</td>\n",
       "      <td>D34843k</td>\n",
       "      <td>1553984784419</td>\n",
       "    </tr>\n",
       "    <tr>\n",
       "      <th>5215541</th>\n",
       "      <td>3280580</td>\n",
       "      <td>08657660c499dd08cc37b1a98d88d83b485c494990dd97...</td>\n",
       "      <td>A73516u</td>\n",
       "      <td>1553985620630</td>\n",
       "    </tr>\n",
       "  </tbody>\n",
       "</table>\n",
       "<p>5215542 rows × 4 columns</p>\n",
       "</div>"
      ],
      "text/plain": [
       "         SessionId                                   product_sku_hash  \\\n",
       "0                1  4d45479446a63680c0a03c1f4a31b9e9a6cba5a9dface8...   \n",
       "1                1  84ab2546942afe5b4c02f1b594e66251d0080da319e957...   \n",
       "2                1  f0999c89e453bad5ee6900df54d6c04ea04eedd7082adb...   \n",
       "3                1  c1b20251888221d47da74a5d8cdfb78be942eb51d35371...   \n",
       "4                1  e3281e3a9ec7ebb3c5483601abb856bc0ccf08dfd74da4...   \n",
       "...            ...                                                ...   \n",
       "5215537    3280580  45b304cd266d33857dc4387933feb38380f7cbd0dd2dc6...   \n",
       "5215538    3280580  a94a0a26b38fd8c7044be87fea51cf500b9fe61a0d3dea...   \n",
       "5215539    3280580  08657660c499dd08cc37b1a98d88d83b485c494990dd97...   \n",
       "5215540    3280580  3c4926b7c61b4d232dc010cd6ccbd280e63ebbf543ac72...   \n",
       "5215541    3280580  08657660c499dd08cc37b1a98d88d83b485c494990dd97...   \n",
       "\n",
       "        product_sku_str  server_timestamp_epoch_ms  \n",
       "0               K14951m              1550148170683  \n",
       "1               F49464o              1550148176362  \n",
       "2               A61636t              1550148180394  \n",
       "3               C19959r              1550148228570  \n",
       "4               F69330u              1550148332921  \n",
       "...                 ...                        ...  \n",
       "5215537         B58392x              1553984562456  \n",
       "5215538         H34363r              1553984613425  \n",
       "5215539         A73516u              1553984626977  \n",
       "5215540         D34843k              1553984784419  \n",
       "5215541         A73516u              1553985620630  \n",
       "\n",
       "[5215542 rows x 4 columns]"
      ]
     },
     "execution_count": 28,
     "metadata": {},
     "output_type": "execute_result"
    }
   ],
   "source": [
    "check"
   ]
  },
  {
   "cell_type": "markdown",
   "id": "8f8a4898",
   "metadata": {},
   "source": [
    "### Data prep2 "
   ]
  },
  {
   "cell_type": "code",
   "execution_count": 29,
   "id": "83993885",
   "metadata": {},
   "outputs": [],
   "source": [
    "new_browsing2 = get_sample"
   ]
  },
  {
   "cell_type": "code",
   "execution_count": 30,
   "id": "c6ae286a",
   "metadata": {},
   "outputs": [
    {
     "data": {
      "text/html": [
       "<div>\n",
       "<style scoped>\n",
       "    .dataframe tbody tr th:only-of-type {\n",
       "        vertical-align: middle;\n",
       "    }\n",
       "\n",
       "    .dataframe tbody tr th {\n",
       "        vertical-align: top;\n",
       "    }\n",
       "\n",
       "    .dataframe thead th {\n",
       "        text-align: right;\n",
       "    }\n",
       "</style>\n",
       "<table border=\"1\" class=\"dataframe\">\n",
       "  <thead>\n",
       "    <tr style=\"text-align: right;\">\n",
       "      <th></th>\n",
       "      <th>SessionId</th>\n",
       "      <th>product_sku_hash</th>\n",
       "      <th>product_sku_str</th>\n",
       "      <th>server_timestamp_epoch_ms</th>\n",
       "    </tr>\n",
       "  </thead>\n",
       "  <tbody>\n",
       "    <tr>\n",
       "      <th>0</th>\n",
       "      <td>1</td>\n",
       "      <td>4d45479446a63680c0a03c1f4a31b9e9a6cba5a9dface8...</td>\n",
       "      <td>K14951m</td>\n",
       "      <td>1550148170683</td>\n",
       "    </tr>\n",
       "    <tr>\n",
       "      <th>1</th>\n",
       "      <td>1</td>\n",
       "      <td>84ab2546942afe5b4c02f1b594e66251d0080da319e957...</td>\n",
       "      <td>F49464o</td>\n",
       "      <td>1550148176362</td>\n",
       "    </tr>\n",
       "    <tr>\n",
       "      <th>2</th>\n",
       "      <td>1</td>\n",
       "      <td>f0999c89e453bad5ee6900df54d6c04ea04eedd7082adb...</td>\n",
       "      <td>A61636t</td>\n",
       "      <td>1550148180394</td>\n",
       "    </tr>\n",
       "    <tr>\n",
       "      <th>3</th>\n",
       "      <td>1</td>\n",
       "      <td>c1b20251888221d47da74a5d8cdfb78be942eb51d35371...</td>\n",
       "      <td>C19959r</td>\n",
       "      <td>1550148228570</td>\n",
       "    </tr>\n",
       "    <tr>\n",
       "      <th>4</th>\n",
       "      <td>1</td>\n",
       "      <td>e3281e3a9ec7ebb3c5483601abb856bc0ccf08dfd74da4...</td>\n",
       "      <td>F69330u</td>\n",
       "      <td>1550148332921</td>\n",
       "    </tr>\n",
       "    <tr>\n",
       "      <th>...</th>\n",
       "      <td>...</td>\n",
       "      <td>...</td>\n",
       "      <td>...</td>\n",
       "      <td>...</td>\n",
       "    </tr>\n",
       "    <tr>\n",
       "      <th>5215537</th>\n",
       "      <td>3280580</td>\n",
       "      <td>45b304cd266d33857dc4387933feb38380f7cbd0dd2dc6...</td>\n",
       "      <td>B58392x</td>\n",
       "      <td>1553984562456</td>\n",
       "    </tr>\n",
       "    <tr>\n",
       "      <th>5215538</th>\n",
       "      <td>3280580</td>\n",
       "      <td>a94a0a26b38fd8c7044be87fea51cf500b9fe61a0d3dea...</td>\n",
       "      <td>H34363r</td>\n",
       "      <td>1553984613425</td>\n",
       "    </tr>\n",
       "    <tr>\n",
       "      <th>5215539</th>\n",
       "      <td>3280580</td>\n",
       "      <td>08657660c499dd08cc37b1a98d88d83b485c494990dd97...</td>\n",
       "      <td>A73516u</td>\n",
       "      <td>1553984626977</td>\n",
       "    </tr>\n",
       "    <tr>\n",
       "      <th>5215540</th>\n",
       "      <td>3280580</td>\n",
       "      <td>3c4926b7c61b4d232dc010cd6ccbd280e63ebbf543ac72...</td>\n",
       "      <td>D34843k</td>\n",
       "      <td>1553984784419</td>\n",
       "    </tr>\n",
       "    <tr>\n",
       "      <th>5215541</th>\n",
       "      <td>3280580</td>\n",
       "      <td>08657660c499dd08cc37b1a98d88d83b485c494990dd97...</td>\n",
       "      <td>A73516u</td>\n",
       "      <td>1553985620630</td>\n",
       "    </tr>\n",
       "  </tbody>\n",
       "</table>\n",
       "<p>5215542 rows × 4 columns</p>\n",
       "</div>"
      ],
      "text/plain": [
       "         SessionId                                   product_sku_hash  \\\n",
       "0                1  4d45479446a63680c0a03c1f4a31b9e9a6cba5a9dface8...   \n",
       "1                1  84ab2546942afe5b4c02f1b594e66251d0080da319e957...   \n",
       "2                1  f0999c89e453bad5ee6900df54d6c04ea04eedd7082adb...   \n",
       "3                1  c1b20251888221d47da74a5d8cdfb78be942eb51d35371...   \n",
       "4                1  e3281e3a9ec7ebb3c5483601abb856bc0ccf08dfd74da4...   \n",
       "...            ...                                                ...   \n",
       "5215537    3280580  45b304cd266d33857dc4387933feb38380f7cbd0dd2dc6...   \n",
       "5215538    3280580  a94a0a26b38fd8c7044be87fea51cf500b9fe61a0d3dea...   \n",
       "5215539    3280580  08657660c499dd08cc37b1a98d88d83b485c494990dd97...   \n",
       "5215540    3280580  3c4926b7c61b4d232dc010cd6ccbd280e63ebbf543ac72...   \n",
       "5215541    3280580  08657660c499dd08cc37b1a98d88d83b485c494990dd97...   \n",
       "\n",
       "        product_sku_str  server_timestamp_epoch_ms  \n",
       "0               K14951m              1550148170683  \n",
       "1               F49464o              1550148176362  \n",
       "2               A61636t              1550148180394  \n",
       "3               C19959r              1550148228570  \n",
       "4               F69330u              1550148332921  \n",
       "...                 ...                        ...  \n",
       "5215537         B58392x              1553984562456  \n",
       "5215538         H34363r              1553984613425  \n",
       "5215539         A73516u              1553984626977  \n",
       "5215540         D34843k              1553984784419  \n",
       "5215541         A73516u              1553985620630  \n",
       "\n",
       "[5215542 rows x 4 columns]"
      ]
     },
     "execution_count": 30,
     "metadata": {},
     "output_type": "execute_result"
    }
   ],
   "source": [
    "new_browsing2"
   ]
  },
  {
   "cell_type": "code",
   "execution_count": 32,
   "id": "3cb01d42",
   "metadata": {},
   "outputs": [
    {
     "data": {
      "image/png": "[encoded data removed]",
      "text/plain": [
       "<Figure size 576x432 with 1 Axes>"
      ]
     },
     "metadata": {
      "needs_background": "light"
     },
     "output_type": "display_data"
    }
   ],
   "source": [
    "# explore length of sessions\n",
    "\n",
    "session_lengths = new_browsing2.groupby(\"SessionId\").count()['product_sku_hash'].values\n",
    "\n",
    "fig = plt.figure(figsize=(8,6))\n",
    "plt.xticks(fontsize=14)\n",
    "\n",
    "ax = sns.boxplot(x=session_lengths)\n",
    "\n",
    "for patch in ax.artists:\n",
    "    r, g, b, a = patch.get_facecolor()\n",
    "    patch.set_facecolor((r, g, b, .7))\n",
    "    \n",
    "plt.xlim(0,15)\n",
    "plt.xlabel(\"Session length (Number of products purchased)\", fontsize=16);\n",
    "\n",
    "plt.tight_layout()\n",
    "plt.savefig(\"sample_session_lengths.png\", transparent=True, dpi=150)\n"
   ]
  },
  {
   "cell_type": "code",
   "execution_count": 33,
   "id": "1d33d5fb",
   "metadata": {},
   "outputs": [
    {
     "name": "stdout",
     "output_type": "stream",
     "text": [
      "Minimum session length: \t 1\n",
      "Maximum session length: \t 181\n",
      "Mean session length: \t \t 3.1796424051327445\n",
      "Median session length: \t \t 1.0\n",
      "Total number of purchases: \t 5215542\n"
     ]
    }
   ],
   "source": [
    "print(\"Minimum session length: \\t\", min(session_lengths))\n",
    "print(\"Maximum session length: \\t\", max(session_lengths))\n",
    "print(\"Mean session length: \\t \\t\", np.mean(session_lengths))\n",
    "print(\"Median session length: \\t \\t\", np.median(session_lengths))\n",
    "print(\"Total number of purchases: \\t\", np.sum(session_lengths))"
   ]
  },
  {
   "cell_type": "code",
   "execution_count": 34,
   "id": "e426c0a2",
   "metadata": {},
   "outputs": [],
   "source": [
    "# remove sessions less than length of 3 \n",
    "\n",
    "def preprocess_data1(df, min_session_count=3):\n",
    "\n",
    "    df.dropna(inplace=True)\n",
    "    item_counts = df.groupby([\"SessionId\"]).count()[\"product_sku_str\"]\n",
    "    df = df[df[\"SessionId\"].isin(item_counts[item_counts >= min_session_count].index)].reset_index(drop=True)\n",
    "    \n",
    "    return df"
   ]
  },
  {
   "cell_type": "code",
   "execution_count": 35,
   "id": "74b329e2",
   "metadata": {},
   "outputs": [
    {
     "name": "stderr",
     "output_type": "stream",
     "text": [
      "C:\\Users\\Lokesh\\anaconda3\\lib\\site-packages\\pandas\\util\\_decorators.py:311: SettingWithCopyWarning: \n",
      "A value is trying to be set on a copy of a slice from a DataFrame\n",
      "\n",
      "See the caveats in the documentation: https://pandas.pydata.org/pandas-docs/stable/user_guide/indexing.html#returning-a-view-versus-a-copy\n",
      "  return func(*args, **kwargs)\n"
     ]
    },
    {
     "data": {
      "text/html": [
       "<div>\n",
       "<style scoped>\n",
       "    .dataframe tbody tr th:only-of-type {\n",
       "        vertical-align: middle;\n",
       "    }\n",
       "\n",
       "    .dataframe tbody tr th {\n",
       "        vertical-align: top;\n",
       "    }\n",
       "\n",
       "    .dataframe thead th {\n",
       "        text-align: right;\n",
       "    }\n",
       "</style>\n",
       "<table border=\"1\" class=\"dataframe\">\n",
       "  <thead>\n",
       "    <tr style=\"text-align: right;\">\n",
       "      <th></th>\n",
       "      <th>SessionId</th>\n",
       "      <th>product_sku_hash</th>\n",
       "      <th>product_sku_str</th>\n",
       "      <th>server_timestamp_epoch_ms</th>\n",
       "    </tr>\n",
       "  </thead>\n",
       "  <tbody>\n",
       "    <tr>\n",
       "      <th>0</th>\n",
       "      <td>1</td>\n",
       "      <td>4d45479446a63680c0a03c1f4a31b9e9a6cba5a9dface8...</td>\n",
       "      <td>K14951m</td>\n",
       "      <td>1550148170683</td>\n",
       "    </tr>\n",
       "    <tr>\n",
       "      <th>1</th>\n",
       "      <td>1</td>\n",
       "      <td>84ab2546942afe5b4c02f1b594e66251d0080da319e957...</td>\n",
       "      <td>F49464o</td>\n",
       "      <td>1550148176362</td>\n",
       "    </tr>\n",
       "    <tr>\n",
       "      <th>2</th>\n",
       "      <td>1</td>\n",
       "      <td>f0999c89e453bad5ee6900df54d6c04ea04eedd7082adb...</td>\n",
       "      <td>A61636t</td>\n",
       "      <td>1550148180394</td>\n",
       "    </tr>\n",
       "    <tr>\n",
       "      <th>3</th>\n",
       "      <td>1</td>\n",
       "      <td>c1b20251888221d47da74a5d8cdfb78be942eb51d35371...</td>\n",
       "      <td>C19959r</td>\n",
       "      <td>1550148228570</td>\n",
       "    </tr>\n",
       "    <tr>\n",
       "      <th>4</th>\n",
       "      <td>1</td>\n",
       "      <td>e3281e3a9ec7ebb3c5483601abb856bc0ccf08dfd74da4...</td>\n",
       "      <td>F69330u</td>\n",
       "      <td>1550148332921</td>\n",
       "    </tr>\n",
       "  </tbody>\n",
       "</table>\n",
       "</div>"
      ],
      "text/plain": [
       "   SessionId                                   product_sku_hash  \\\n",
       "0          1  4d45479446a63680c0a03c1f4a31b9e9a6cba5a9dface8...   \n",
       "1          1  84ab2546942afe5b4c02f1b594e66251d0080da319e957...   \n",
       "2          1  f0999c89e453bad5ee6900df54d6c04ea04eedd7082adb...   \n",
       "3          1  c1b20251888221d47da74a5d8cdfb78be942eb51d35371...   \n",
       "4          1  e3281e3a9ec7ebb3c5483601abb856bc0ccf08dfd74da4...   \n",
       "\n",
       "  product_sku_str  server_timestamp_epoch_ms  \n",
       "0         K14951m              1550148170683  \n",
       "1         F49464o              1550148176362  \n",
       "2         A61636t              1550148180394  \n",
       "3         C19959r              1550148228570  \n",
       "4         F69330u              1550148332921  "
      ]
     },
     "execution_count": 35,
     "metadata": {},
     "output_type": "execute_result"
    }
   ],
   "source": [
    "df = preprocess_data1(new_browsing2)\n",
    "df.head()"
   ]
  },
  {
   "cell_type": "code",
   "execution_count": 36,
   "id": "b4986b5e",
   "metadata": {},
   "outputs": [
    {
     "name": "stdout",
     "output_type": "stream",
     "text": [
      "<class 'pandas.core.frame.DataFrame'>\n",
      "RangeIndex: 3870718 entries, 0 to 3870717\n",
      "Data columns (total 4 columns):\n",
      " #   Column                     Dtype \n",
      "---  ------                     ----- \n",
      " 0   SessionId                  int64 \n",
      " 1   product_sku_hash           object\n",
      " 2   product_sku_str            object\n",
      " 3   server_timestamp_epoch_ms  int64 \n",
      "dtypes: int64(2), object(2)\n",
      "memory usage: 118.1+ MB\n"
     ]
    }
   ],
   "source": [
    "df.info()"
   ]
  },
  {
   "cell_type": "code",
   "execution_count": 37,
   "id": "732e9315",
   "metadata": {},
   "outputs": [
    {
     "data": {
      "text/plain": [
       "SessionId                     549312\n",
       "product_sku_hash               45288\n",
       "product_sku_str                45288\n",
       "server_timestamp_epoch_ms    3857976\n",
       "dtype: int64"
      ]
     },
     "execution_count": 37,
     "metadata": {},
     "output_type": "execute_result"
    }
   ],
   "source": [
    "df.nunique()"
   ]
  },
  {
   "cell_type": "markdown",
   "id": "41df6ab5",
   "metadata": {},
   "source": [
    "### Data prep 3"
   ]
  },
  {
   "cell_type": "code",
   "execution_count": 38,
   "id": "a24d7501",
   "metadata": {},
   "outputs": [],
   "source": [
    "#sessionization\n",
    "def construct_insession_product_sequences(df, sessionID, productID):\n",
    "    \"\"\" \n",
    "     Construct session sequence\n",
    "    - sessionID: str      column name in the df that represents invididual sessions\n",
    "    - itemID: str         column name in the df that represents the items within a session\n",
    "\n",
    "    \"\"\"\n",
    "    grp_by_session = df.groupby([sessionID])\n",
    "\n",
    "    session_sequences = []\n",
    "    for name, group in grp_by_session:\n",
    "        session_sequences.append(list(group[productID].values))\n",
    "\n",
    "    return session_sequences"
   ]
  },
  {
   "cell_type": "code",
   "execution_count": 39,
   "id": "9f2f67c3",
   "metadata": {},
   "outputs": [],
   "source": [
    "sample_sessions = construct_insession_product_sequences(df, \"SessionId\", \"product_sku_str\")"
   ]
  },
  {
   "cell_type": "code",
   "execution_count": 41,
   "id": "65fe089a",
   "metadata": {},
   "outputs": [
    {
     "name": "stdout",
     "output_type": "stream",
     "text": [
      "549312\n",
      "---------Compare--------------\n",
      "549312\n"
     ]
    }
   ],
   "source": [
    "print(df['SessionId'].nunique())\n",
    "print(\"---------Compare--------------\")\n",
    "print(len(sample_sessions))"
   ]
  },
  {
   "cell_type": "markdown",
   "id": "dcf12d36",
   "metadata": {},
   "source": [
    "### Export sample session list "
   ]
  },
  {
   "cell_type": "code",
   "execution_count": 43,
   "id": "8ca7c80d",
   "metadata": {},
   "outputs": [
    {
     "data": {
      "text/plain": [
       "list"
      ]
     },
     "execution_count": 43,
     "metadata": {},
     "output_type": "execute_result"
    }
   ],
   "source": [
    "type(sample_sessions)"
   ]
  },
  {
   "cell_type": "code",
   "execution_count": 44,
   "id": "7764e283",
   "metadata": {},
   "outputs": [],
   "source": [
    "import json"
   ]
  },
  {
   "cell_type": "code",
   "execution_count": 46,
   "id": "06ceea75",
   "metadata": {},
   "outputs": [],
   "source": [
    "with open('sample_sessions_1.txt', 'w') as f:\n",
    "    f.write(json.dumps(sample_sessions))"
   ]
  },
  {
   "cell_type": "code",
   "execution_count": null,
   "id": "effa4dad",
   "metadata": {},
   "outputs": [],
   "source": []
  }
 ],
 "metadata": {
  "kernelspec": {
   "display_name": "Python 3 (ipykernel)",
   "language": "python",
   "name": "python3"
  },
  "language_info": {
   "codemirror_mode": {
    "name": "ipython",
    "version": 3
   },
   "file_extension": ".py",
   "mimetype": "text/x-python",
   "name": "python",
   "nbconvert_exporter": "python",
   "pygments_lexer": "ipython3",
   "version": "3.9.7"
  }
 },
 "nbformat": 4,
 "nbformat_minor": 5
}
